{
  "nbformat": 4,
  "nbformat_minor": 0,
  "metadata": {
    "colab": {
      "provenance": [],
      "authorship_tag": "ABX9TyNeT5NRDB+3Iyq0sSPqa1XN",
      "include_colab_link": true
    },
    "kernelspec": {
      "name": "python3",
      "display_name": "Python 3"
    },
    "language_info": {
      "name": "python"
    }
  },
  "cells": [
    {
      "cell_type": "markdown",
      "metadata": {
        "id": "view-in-github",
        "colab_type": "text"
      },
      "source": [
        "<a href=\"https://colab.research.google.com/github/girishkarhana/python/blob/main/Complexity.ipynb\" target=\"_parent\"><img src=\"https://colab.research.google.com/assets/colab-badge.svg\" alt=\"Open In Colab\"/></a>"
      ]
    },
    {
      "cell_type": "code",
      "source": [
        "integer_to_match = 13\n",
        "list_to_search = [1,3,5,8,12,13,15,16,18,20,22,30,40,50,55,67]\n",
        "\n",
        "c=0\n",
        "for i in range(len(list_to_search)):\n",
        "  if integer_to_match == list_to_search[i]:\n",
        "    print(\"Match found at index: \", i)\n",
        "    break\n",
        "  c+=1\n",
        "c"
      ],
      "metadata": {
        "colab": {
          "base_uri": "https://localhost:8080/"
        },
        "id": "nFUPTRNieB_S",
        "outputId": "e62e7265-8c82-4b8e-8ba9-5df5ddc91917"
      },
      "execution_count": 326,
      "outputs": [
        {
          "output_type": "stream",
          "name": "stdout",
          "text": [
            "Match found at index:  5\n"
          ]
        },
        {
          "output_type": "execute_result",
          "data": {
            "text/plain": [
              "5"
            ]
          },
          "metadata": {},
          "execution_count": 326
        }
      ]
    },
    {
      "cell_type": "code",
      "source": [
        "list_to_search.index(integer_to_match)"
      ],
      "metadata": {
        "colab": {
          "base_uri": "https://localhost:8080/"
        },
        "id": "UR7aau51eCAX",
        "outputId": "f823c153-939c-480c-f507-8a8af1653fe3"
      },
      "execution_count": 327,
      "outputs": [
        {
          "output_type": "execute_result",
          "data": {
            "text/plain": [
              "5"
            ]
          },
          "metadata": {},
          "execution_count": 327
        }
      ]
    },
    {
      "cell_type": "code",
      "source": [
        "def binary_search(arr, low, high, x):\n",
        "  c=0\n",
        "  if high >= low:\n",
        "    mid=(high+low)//2\n",
        "\n",
        "    if arr[mid]==x:\n",
        "      return m\n",
        "    elif arr[mid]> x:\n",
        "      return binary_search(arr, low, mid-1, x)\n",
        "    else:\n",
        "      return binary_search(arr, mid+1, high, x)\n",
        "\n",
        "  else:\n",
        "    return -1"
      ],
      "metadata": {
        "id": "AnjvJ4mVeEQe"
      },
      "execution_count": 328,
      "outputs": []
    },
    {
      "cell_type": "code",
      "source": [
        "integer_to_match = 13\n",
        "list_to_search = [1,3,5,8,12,13,15,16,18,20,22,30,40,50,55,67]"
      ],
      "metadata": {
        "id": "tl9WF1V_eF3N"
      },
      "execution_count": 329,
      "outputs": []
    },
    {
      "cell_type": "code",
      "source": [
        "print(list_to_search[5] == integer_to_match)"
      ],
      "metadata": {
        "colab": {
          "base_uri": "https://localhost:8080/"
        },
        "id": "NMpCkCZ_eKlF",
        "outputId": "d2b28ab8-1324-428c-f36e-fa877dc64e94"
      },
      "execution_count": 331,
      "outputs": [
        {
          "output_type": "stream",
          "name": "stdout",
          "text": [
            "True\n"
          ]
        }
      ]
    },
    {
      "cell_type": "code",
      "source": [
        "list_to_sum = [1,2,3,4,5,6,7]\n",
        "\n",
        "sum=0\n",
        "for i in range(len(list_to_sum)):\n",
        "  sum = sum + list_to_sum[i]\n",
        "sum"
      ],
      "metadata": {
        "colab": {
          "base_uri": "https://localhost:8080/"
        },
        "id": "brl1aRrCeL_B",
        "outputId": "67e71f01-cf60-47c4-a266-a68229631ee0"
      },
      "execution_count": 332,
      "outputs": [
        {
          "output_type": "execute_result",
          "data": {
            "text/plain": [
              "28"
            ]
          },
          "metadata": {},
          "execution_count": 332
        }
      ]
    },
    {
      "cell_type": "code",
      "source": [
        "sum = []\n",
        "c=0\n",
        "for i in range(len(list_to_sum)):\n",
        "  if i == 0:\n",
        "    sum.append(list_to_sum[i])\n",
        "  else:\n",
        "    sum.append(sum[i-1]+list_to_sum[i])\n",
        "  c+=1\n",
        "c"
      ],
      "metadata": {
        "colab": {
          "base_uri": "https://localhost:8080/"
        },
        "id": "SJJPGMZceSFk",
        "outputId": "71059890-77c4-474d-c20b-d881cc3fe193"
      },
      "execution_count": 333,
      "outputs": [
        {
          "output_type": "execute_result",
          "data": {
            "text/plain": [
              "7"
            ]
          },
          "metadata": {},
          "execution_count": 333
        }
      ]
    },
    {
      "cell_type": "code",
      "source": [
        "sum"
      ],
      "metadata": {
        "colab": {
          "base_uri": "https://localhost:8080/"
        },
        "id": "AQV8nK9xeTmn",
        "outputId": "cf4a94ff-1419-48e1-aed5-4935eeb76463"
      },
      "execution_count": 334,
      "outputs": [
        {
          "output_type": "execute_result",
          "data": {
            "text/plain": [
              "[1, 3, 6, 10, 15, 21, 28]"
            ]
          },
          "metadata": {},
          "execution_count": 334
        }
      ]
    },
    {
      "cell_type": "code",
      "source": [
        "sum[-1]\n"
      ],
      "metadata": {
        "colab": {
          "base_uri": "https://localhost:8080/"
        },
        "id": "TAtpZ77zeXDK",
        "outputId": "69ea1256-3619-4853-cc3b-f71db88b69a1"
      },
      "execution_count": 335,
      "outputs": [
        {
          "output_type": "execute_result",
          "data": {
            "text/plain": [
              "28"
            ]
          },
          "metadata": {},
          "execution_count": 335
        }
      ]
    },
    {
      "cell_type": "code",
      "source": [
        "A = [1,11,4,9,16,2,23,45,77,15]\n",
        "B = [51,29,82,32,67,5,2,22,78,98]\n",
        "areas = []\n",
        "c=0\n",
        "for a in A:\n",
        "  for b in B:\n",
        "    areas.append(a*b)\n",
        "    c+=1\n",
        "d=c\n",
        "d"
      ],
      "metadata": {
        "colab": {
          "base_uri": "https://localhost:8080/"
        },
        "id": "dUYsDoh1eYR7",
        "outputId": "1c2aad30-9ea9-47aa-d2f0-3a4e199b7c78"
      },
      "execution_count": 336,
      "outputs": [
        {
          "output_type": "execute_result",
          "data": {
            "text/plain": [
              "100"
            ]
          },
          "metadata": {},
          "execution_count": 336
        }
      ]
    },
    {
      "cell_type": "code",
      "source": [
        "max_area = 0\n",
        "for area in areas:\n",
        "  if area>max_area:\n",
        "    max_area=area\n",
        "  d=d+1\n",
        "d"
      ],
      "metadata": {
        "colab": {
          "base_uri": "https://localhost:8080/"
        },
        "id": "D56gvQfLeaCA",
        "outputId": "7a4de744-2f3a-4397-9062-15c2750b9516"
      },
      "execution_count": 337,
      "outputs": [
        {
          "output_type": "execute_result",
          "data": {
            "text/plain": [
              "200"
            ]
          },
          "metadata": {},
          "execution_count": 337
        }
      ]
    },
    {
      "cell_type": "code",
      "source": [
        "len(areas)"
      ],
      "metadata": {
        "colab": {
          "base_uri": "https://localhost:8080/"
        },
        "id": "f08CLIhnebx-",
        "outputId": "277864fe-5dbd-4b1c-8203-95b7d993ebd2"
      },
      "execution_count": 338,
      "outputs": [
        {
          "output_type": "execute_result",
          "data": {
            "text/plain": [
              "100"
            ]
          },
          "metadata": {},
          "execution_count": 338
        }
      ]
    },
    {
      "cell_type": "code",
      "source": [
        "max_area"
      ],
      "metadata": {
        "colab": {
          "base_uri": "https://localhost:8080/"
        },
        "id": "3Jzdqn64edKK",
        "outputId": "3a4dbbb2-71a0-470d-cd09-48bcaa84be77"
      },
      "execution_count": 339,
      "outputs": [
        {
          "output_type": "execute_result",
          "data": {
            "text/plain": [
              "7546"
            ]
          },
          "metadata": {},
          "execution_count": 339
        }
      ]
    },
    {
      "cell_type": "code",
      "source": [
        "max(areas)"
      ],
      "metadata": {
        "colab": {
          "base_uri": "https://localhost:8080/"
        },
        "id": "p0ESOwqveedU",
        "outputId": "07437e90-5022-407f-e729-0e2fc6c53cee"
      },
      "execution_count": 340,
      "outputs": [
        {
          "output_type": "execute_result",
          "data": {
            "text/plain": [
              "7546"
            ]
          },
          "metadata": {},
          "execution_count": 340
        }
      ]
    },
    {
      "cell_type": "code",
      "source": [
        "A = [1,11,4,9,16,2,23,45,77,15]\n",
        "B = [51,29,82,32,67,5,2,22,78,98]\n",
        "e=0\n",
        "max_a=0\n",
        "for a in A:\n",
        "  if a>max_a:\n",
        "    max_a=a\n",
        "  e+=1\n",
        "max_b=0\n",
        "for b in B:\n",
        "  if b>max_b:\n",
        "    max_b=b\n",
        "  e+=1\n",
        "e"
      ],
      "metadata": {
        "colab": {
          "base_uri": "https://localhost:8080/"
        },
        "id": "ZsHPrNceefxo",
        "outputId": "a21893e4-5d40-4aee-8d3c-43cfb13e8488"
      },
      "execution_count": 341,
      "outputs": [
        {
          "output_type": "execute_result",
          "data": {
            "text/plain": [
              "20"
            ]
          },
          "metadata": {},
          "execution_count": 341
        }
      ]
    },
    {
      "cell_type": "code",
      "source": [
        "max_a*max_b"
      ],
      "metadata": {
        "colab": {
          "base_uri": "https://localhost:8080/"
        },
        "id": "J6Jf9iRWehvH",
        "outputId": "d93194fc-0252-4c93-986d-18620f051dab"
      },
      "execution_count": 342,
      "outputs": [
        {
          "output_type": "execute_result",
          "data": {
            "text/plain": [
              "7546"
            ]
          },
          "metadata": {},
          "execution_count": 342
        }
      ]
    }
  ]
}