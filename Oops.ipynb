{
  "nbformat": 4,
  "nbformat_minor": 0,
  "metadata": {
    "colab": {
      "provenance": [],
      "authorship_tag": "ABX9TyPsewmxgz9tEsD/FY9T0Ijr",
      "include_colab_link": true
    },
    "kernelspec": {
      "name": "python3",
      "display_name": "Python 3"
    },
    "language_info": {
      "name": "python"
    }
  },
  "cells": [
    {
      "cell_type": "markdown",
      "metadata": {
        "id": "view-in-github",
        "colab_type": "text"
      },
      "source": [
        "<a href=\"https://colab.research.google.com/github/girishkarhana/python/blob/main/Oops.ipynb\" target=\"_parent\"><img src=\"https://colab.research.google.com/assets/colab-badge.svg\" alt=\"Open In Colab\"/></a>"
      ]
    },
    {
      "cell_type": "code",
      "source": [
        "empty_list = []\n",
        "empty_list"
      ],
      "metadata": {
        "colab": {
          "base_uri": "https://localhost:8080/"
        },
        "id": "mg4fmD6QdDk1",
        "outputId": "b8bf509b-5952-43c5-f7e9-da6051f0bc10"
      },
      "execution_count": 298,
      "outputs": [
        {
          "output_type": "execute_result",
          "data": {
            "text/plain": [
              "[]"
            ]
          },
          "metadata": {},
          "execution_count": 298
        }
      ]
    },
    {
      "cell_type": "code",
      "source": [
        "another_empty_list = list()\n",
        "another_empty_list"
      ],
      "metadata": {
        "colab": {
          "base_uri": "https://localhost:8080/"
        },
        "id": "kHKdH8mmdEU7",
        "outputId": "e013716e-3b02-44e1-da45-427996c5f5eb"
      },
      "execution_count": 299,
      "outputs": [
        {
          "output_type": "execute_result",
          "data": {
            "text/plain": [
              "[]"
            ]
          },
          "metadata": {},
          "execution_count": 299
        }
      ]
    },
    {
      "cell_type": "code",
      "source": [
        "another_empty_list.append(2)\n",
        "another_empty_list"
      ],
      "metadata": {
        "colab": {
          "base_uri": "https://localhost:8080/"
        },
        "id": "obm_DrwOdFzq",
        "outputId": "b860028b-bc94-4bfb-ff69-6901579f9016"
      },
      "execution_count": 300,
      "outputs": [
        {
          "output_type": "execute_result",
          "data": {
            "text/plain": [
              "[2]"
            ]
          },
          "metadata": {},
          "execution_count": 300
        }
      ]
    },
    {
      "cell_type": "code",
      "source": [
        "the_sixth_sense = 6\n",
        "print(type(the_sixth_sense))"
      ],
      "metadata": {
        "colab": {
          "base_uri": "https://localhost:8080/"
        },
        "id": "CtCamOh-dIft",
        "outputId": "18eec043-44e4-4a19-8241-f9bc3532848e"
      },
      "execution_count": 302,
      "outputs": [
        {
          "output_type": "stream",
          "name": "stdout",
          "text": [
            "<class 'int'>\n"
          ]
        }
      ]
    },
    {
      "cell_type": "code",
      "source": [
        "two_and_a_half = 2.5\n",
        "print(type(two_and_a_half))"
      ],
      "metadata": {
        "colab": {
          "base_uri": "https://localhost:8080/"
        },
        "id": "nkaaHU9WdJ0X",
        "outputId": "a6cf4028-2597-4a9e-d197-dd1f93e58e37"
      },
      "execution_count": 303,
      "outputs": [
        {
          "output_type": "stream",
          "name": "stdout",
          "text": [
            "<class 'float'>\n"
          ]
        }
      ]
    },
    {
      "cell_type": "code",
      "source": [
        "fellow_list = list()\n",
        "print(type(fellow_list))"
      ],
      "metadata": {
        "colab": {
          "base_uri": "https://localhost:8080/"
        },
        "id": "Ms93C07RdPI1",
        "outputId": "0e5ef4c3-bd04-422a-c746-bba4b0a50d30"
      },
      "execution_count": 304,
      "outputs": [
        {
          "output_type": "stream",
          "name": "stdout",
          "text": [
            "<class 'list'>\n"
          ]
        }
      ]
    },
    {
      "cell_type": "code",
      "source": [
        "another_list = list()\n",
        "tharoor = {'farrago':'a confused mixture'}\n",
        "print(type(tharoor))"
      ],
      "metadata": {
        "colab": {
          "base_uri": "https://localhost:8080/"
        },
        "id": "ZPTzgXfqdQa-",
        "outputId": "0ab9144f-cc5c-425a-ec45-d21d63311329"
      },
      "execution_count": 305,
      "outputs": [
        {
          "output_type": "stream",
          "name": "stdout",
          "text": [
            "<class 'dict'>\n"
          ]
        }
      ]
    },
    {
      "cell_type": "code",
      "source": [
        "class FirstClass:\n",
        "  pass"
      ],
      "metadata": {
        "id": "KAz7XOSwdSFC"
      },
      "execution_count": 306,
      "outputs": []
    },
    {
      "cell_type": "code",
      "source": [
        "x = FirstClass()\n",
        "print(type(x))"
      ],
      "metadata": {
        "colab": {
          "base_uri": "https://localhost:8080/"
        },
        "id": "pkYiTGhXdTQ2",
        "outputId": "1a40bc1c-a232-4351-ffea-a4aeb94b1350"
      },
      "execution_count": 307,
      "outputs": [
        {
          "output_type": "stream",
          "name": "stdout",
          "text": [
            "<class '__main__.FirstClass'>\n"
          ]
        }
      ]
    },
    {
      "cell_type": "code",
      "source": [
        "y = FirstClass()\n",
        "print(type(y))"
      ],
      "metadata": {
        "colab": {
          "base_uri": "https://localhost:8080/"
        },
        "id": "5a8_fdMTdUo0",
        "outputId": "7c7011eb-30ba-4203-ae52-232830de3959"
      },
      "execution_count": 308,
      "outputs": [
        {
          "output_type": "stream",
          "name": "stdout",
          "text": [
            "<class '__main__.FirstClass'>\n"
          ]
        }
      ]
    },
    {
      "cell_type": "code",
      "source": [
        "class Dog:\n",
        "  def __init__(self, breed, name):\n",
        "    self.breed_attribute = breed\n",
        "    self.name_attribute = name"
      ],
      "metadata": {
        "id": "xnzE1NyxdWUZ"
      },
      "execution_count": 309,
      "outputs": []
    },
    {
      "cell_type": "code",
      "source": [
        "sam_object = Dog(breed='Lab', name='Sam')\n",
        "frank_object = Dog(breed='Huskie', name='Frank')"
      ],
      "metadata": {
        "id": "rnkpeUmSdX2a"
      },
      "execution_count": 310,
      "outputs": []
    },
    {
      "cell_type": "code",
      "source": [
        "sam_object.breed_attribute"
      ],
      "metadata": {
        "colab": {
          "base_uri": "https://localhost:8080/",
          "height": 35
        },
        "id": "vwubMSYmdZ5k",
        "outputId": "ccdb11ba-e155-4f8f-b0f7-e638d37b0da6"
      },
      "execution_count": 311,
      "outputs": [
        {
          "output_type": "execute_result",
          "data": {
            "text/plain": [
              "'Lab'"
            ],
            "application/vnd.google.colaboratory.intrinsic+json": {
              "type": "string"
            }
          },
          "metadata": {},
          "execution_count": 311
        }
      ]
    },
    {
      "cell_type": "code",
      "source": [
        "frank_object.name_attribute"
      ],
      "metadata": {
        "colab": {
          "base_uri": "https://localhost:8080/",
          "height": 35
        },
        "id": "6Cl-lsLrdbXe",
        "outputId": "8569aa82-5f6b-4ec3-c47d-11edff1e838f"
      },
      "execution_count": 312,
      "outputs": [
        {
          "output_type": "execute_result",
          "data": {
            "text/plain": [
              "'Frank'"
            ],
            "application/vnd.google.colaboratory.intrinsic+json": {
              "type": "string"
            }
          },
          "metadata": {},
          "execution_count": 312
        }
      ]
    },
    {
      "cell_type": "code",
      "source": [
        "class Circle:\n",
        "  def __init__(self, radius = 1):\n",
        "    self.radius = radius\n",
        "    self.area = 3.14 * radius * radius\n",
        "\n",
        "  def setRadius(self, new_radius):\n",
        "      self.radius = new_radius\n",
        "      self.area = 3.14 * new_radius * new_radius\n",
        "\n",
        "  def getCircumference(self):\n",
        "      return 2 * 3.14 * self.radius\n",
        "\n",
        "c = Circle(2)\n",
        "c.area\n",
        ""
      ],
      "metadata": {
        "colab": {
          "base_uri": "https://localhost:8080/"
        },
        "id": "hDykkQeTdciq",
        "outputId": "cf738727-e6d7-4469-c817-f97950bb827e"
      },
      "execution_count": 313,
      "outputs": [
        {
          "output_type": "execute_result",
          "data": {
            "text/plain": [
              "12.56"
            ]
          },
          "metadata": {},
          "execution_count": 313
        }
      ]
    },
    {
      "cell_type": "code",
      "source": [
        "c.setRadius(10)\n",
        "print(c.getCircumference())"
      ],
      "metadata": {
        "colab": {
          "base_uri": "https://localhost:8080/"
        },
        "id": "c5woGg4Idd1A",
        "outputId": "d04b5d41-a7ed-468f-dd31-97bc407b4563"
      },
      "execution_count": 314,
      "outputs": [
        {
          "output_type": "stream",
          "name": "stdout",
          "text": [
            "62.800000000000004\n"
          ]
        }
      ]
    },
    {
      "cell_type": "code",
      "source": [
        "print('Radius is: ', c.radius)\n",
        "print('Area is: ', c.area)\n",
        "print('Circumference is: ', c.getCircumference())"
      ],
      "metadata": {
        "colab": {
          "base_uri": "https://localhost:8080/"
        },
        "id": "RMWE5v6_dfYi",
        "outputId": "c42d4e0d-608b-4688-dc36-a15a37923c4c"
      },
      "execution_count": 315,
      "outputs": [
        {
          "output_type": "stream",
          "name": "stdout",
          "text": [
            "Radius is:  10\n",
            "Area is:  314.0\n",
            "Circumference is:  62.800000000000004\n"
          ]
        }
      ]
    },
    {
      "cell_type": "code",
      "source": [
        "c.setRadius(4)\n",
        "print('radius is: ', c.radius)\n",
        "print('Area is: ', c.area)\n",
        "print('Circumference is: ', c.getCircumference())"
      ],
      "metadata": {
        "colab": {
          "base_uri": "https://localhost:8080/"
        },
        "id": "_BI-xBxMdgz7",
        "outputId": "66d2d455-b61b-4cec-9ad8-739612e3b9f3"
      },
      "execution_count": 316,
      "outputs": [
        {
          "output_type": "stream",
          "name": "stdout",
          "text": [
            "radius is:  4\n",
            "Area is:  50.24\n",
            "Circumference is:  25.12\n"
          ]
        }
      ]
    },
    {
      "cell_type": "code",
      "source": [
        "class HouseStark:\n",
        "  def __init__(self, sigil):\n",
        "    self.sigil = sigil\n",
        "\n",
        "  def motto(self):\n",
        "    return \"house stark with sigil \" + self.sigil + \"has the motto 'Winter is Coming'\"\n",
        "\n",
        "class HouseTargaryen:\n",
        "  def __init__(self, sigil):\n",
        "    self.sigil = sigil\n",
        "\n",
        "  def motto(self):\n",
        "      return \"house targaryen with sigil \" + self.sigil + \"has the motto 'Fire and Blood'\"\n",
        ""
      ],
      "metadata": {
        "id": "dIRElFpEdiGl"
      },
      "execution_count": 317,
      "outputs": []
    },
    {
      "cell_type": "code",
      "source": [
        "arya = HouseStark('direwolf')\n",
        "danaerys = HouseTargaryen('dragon')\n",
        "\n",
        "print(arya.motto())"
      ],
      "metadata": {
        "colab": {
          "base_uri": "https://localhost:8080/"
        },
        "id": "jpFBuJrBdkqC",
        "outputId": "bcb158f7-b945-4046-dffd-fe0ca4b2c381"
      },
      "execution_count": 318,
      "outputs": [
        {
          "output_type": "stream",
          "name": "stdout",
          "text": [
            "house stark with sigil direwolfhas the motto 'Winter is Coming'\n"
          ]
        }
      ]
    },
    {
      "cell_type": "code",
      "source": [
        "print(danaerys.motto())"
      ],
      "metadata": {
        "colab": {
          "base_uri": "https://localhost:8080/"
        },
        "id": "IFtWo-YFdmOn",
        "outputId": "a2c933b2-2d92-45c4-ed5b-f72e31ec1eac"
      },
      "execution_count": 319,
      "outputs": [
        {
          "output_type": "stream",
          "name": "stdout",
          "text": [
            "house targaryen with sigil dragonhas the motto 'Fire and Blood'\n"
          ]
        }
      ]
    },
    {
      "cell_type": "code",
      "source": [
        "for warrior in [arya, danaerys]:\n",
        "  print(warrior.motto())"
      ],
      "metadata": {
        "colab": {
          "base_uri": "https://localhost:8080/"
        },
        "id": "v3Fuur9ednc8",
        "outputId": "79f3484c-cf1b-43a2-d52e-3be1cd4d7b81"
      },
      "execution_count": 320,
      "outputs": [
        {
          "output_type": "stream",
          "name": "stdout",
          "text": [
            "house stark with sigil direwolfhas the motto 'Winter is Coming'\n",
            "house targaryen with sigil dragonhas the motto 'Fire and Blood'\n"
          ]
        }
      ]
    },
    {
      "cell_type": "code",
      "source": [
        "def get_motto(warrior):\n",
        "  print(warrior.motto())\n",
        "\n",
        "get_motto(arya)\n",
        "get_motto(danaerys)"
      ],
      "metadata": {
        "colab": {
          "base_uri": "https://localhost:8080/"
        },
        "id": "71t8ofCmdoxr",
        "outputId": "05777afc-1912-4c09-d7d8-304bd6127523"
      },
      "execution_count": 321,
      "outputs": [
        {
          "output_type": "stream",
          "name": "stdout",
          "text": [
            "house stark with sigil direwolfhas the motto 'Winter is Coming'\n",
            "house targaryen with sigil dragonhas the motto 'Fire and Blood'\n"
          ]
        }
      ]
    },
    {
      "cell_type": "code",
      "source": [
        "try:\n",
        "  print(\"good to go\")\n",
        "  print('sss')\n",
        "  print('top','class')\n",
        "except:\n",
        "  print('yesss')\n",
        "  print('hahaha')\n",
        "  print('blabla')\n",
        "else:\n",
        "  print(\"t r u e\")\n",
        "  print(' no matter')\n",
        "  print('what')"
      ],
      "metadata": {
        "colab": {
          "base_uri": "https://localhost:8080/"
        },
        "id": "MgKsEcwJdqJX",
        "outputId": "80857c13-42ec-4f95-c9de-798a1c5402fc"
      },
      "execution_count": 322,
      "outputs": [
        {
          "output_type": "stream",
          "name": "stdout",
          "text": [
            "good to go\n",
            "sss\n",
            "top class\n",
            "t r u e\n",
            " no matter\n",
            "what\n"
          ]
        }
      ]
    },
    {
      "cell_type": "code",
      "source": [
        "try:\n",
        "  print(\"execute try statements\")\n",
        "except:\n",
        "  print(\"neverrrr\")\n",
        "finally:\n",
        "  print(\"finally always\")"
      ],
      "metadata": {
        "colab": {
          "base_uri": "https://localhost:8080/"
        },
        "id": "VLXB4z6Wdr8g",
        "outputId": "e2bf989e-0ef9-40b7-8f9b-18f29a90a449"
      },
      "execution_count": 323,
      "outputs": [
        {
          "output_type": "stream",
          "name": "stdout",
          "text": [
            "execute try statements\n",
            "finally always\n"
          ]
        }
      ]
    },
    {
      "cell_type": "code",
      "source": [
        "def get_price_per_km(hour):\n",
        "\n",
        "  if (hour>8 & (hour<11)):\n",
        "    price_per_km = 20\n",
        "  elif (hour>18 & (hour<21)):\n",
        "    price_per_km = 25\n",
        "  else:\n",
        "    price_per_km = 30\n",
        "  return price_per_km"
      ],
      "metadata": {
        "id": "UhyT5uzBdtyC"
      },
      "execution_count": 324,
      "outputs": []
    },
    {
      "cell_type": "code",
      "source": [
        "class SurgePricing:\n",
        "    def __init__(self):\n",
        "        pass\n",
        "    def get_price_per_km(self, hour):\n",
        "        try:\n",
        "            if (hour > 8 and (hour < 11)):\n",
        "                price_per_km = 20\n",
        "            elif (hour > 18 and (hour < 21)):\n",
        "                price_per_km = 25\n",
        "            else:\n",
        "                price_per_km = 30\n",
        "        except:\n",
        "            price_per_km = 10\n",
        "        return price_per_km"
      ],
      "metadata": {
        "id": "YYAgAfz4dvd3"
      },
      "execution_count": 325,
      "outputs": []
    }
  ]
}