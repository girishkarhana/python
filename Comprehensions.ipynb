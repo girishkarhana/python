{
  "nbformat": 4,
  "nbformat_minor": 0,
  "metadata": {
    "colab": {
      "provenance": [],
      "authorship_tag": "ABX9TyNbzQAJ7qAV2iBu+h+L7JWO",
      "include_colab_link": true
    },
    "kernelspec": {
      "name": "python3",
      "display_name": "Python 3"
    },
    "language_info": {
      "name": "python"
    }
  },
  "cells": [
    {
      "cell_type": "markdown",
      "metadata": {
        "id": "view-in-github",
        "colab_type": "text"
      },
      "source": [
        "<a href=\"https://colab.research.google.com/github/girishkarhana/python/blob/main/Comprehensions.ipynb\" target=\"_parent\"><img src=\"https://colab.research.google.com/assets/colab-badge.svg\" alt=\"Open In Colab\"/></a>"
      ]
    },
    {
      "cell_type": "code",
      "source": [
        "list_of_numbers=[1,2,4,6,11,14,17,20]"
      ],
      "metadata": {
        "id": "QtBVZFEAZvJ7"
      },
      "execution_count": 240,
      "outputs": []
    },
    {
      "cell_type": "code",
      "source": [
        "squared_numbers=[1,2,4,6,11,14,17,20]\n",
        "print(squared_numbers)"
      ],
      "metadata": {
        "colab": {
          "base_uri": "https://localhost:8080/"
        },
        "id": "FZgec5pUZw_6",
        "outputId": "78a03051-2559-468b-e913-bf1e7aa11a9f"
      },
      "execution_count": 241,
      "outputs": [
        {
          "output_type": "stream",
          "name": "stdout",
          "text": [
            "[1, 2, 4, 6, 11, 14, 17, 20]\n"
          ]
        }
      ]
    },
    {
      "cell_type": "code",
      "source": [
        "print(f\"The list of squared numbers is {squared_numbers}\")"
      ],
      "metadata": {
        "colab": {
          "base_uri": "https://localhost:8080/"
        },
        "id": "vaSK9UidZy21",
        "outputId": "8f33acdd-83a9-4f7c-ffb0-84bbf49ac89f"
      },
      "execution_count": 242,
      "outputs": [
        {
          "output_type": "stream",
          "name": "stdout",
          "text": [
            "The list of squared numbers is [1, 2, 4, 6, 11, 14, 17, 20]\n"
          ]
        }
      ]
    },
    {
      "cell_type": "code",
      "source": [
        "list_of_numbers=[1,2,4,6,11,14,17,20]\n",
        "squared_numbers=[number**2 for number in list_of_numbers]\n",
        "print(squared_numbers)"
      ],
      "metadata": {
        "colab": {
          "base_uri": "https://localhost:8080/"
        },
        "id": "63bpcX6cZ03p",
        "outputId": "412db563-928e-44fe-91b8-56ab78800cf9"
      },
      "execution_count": 243,
      "outputs": [
        {
          "output_type": "stream",
          "name": "stdout",
          "text": [
            "[1, 4, 16, 36, 121, 196, 289, 400]\n"
          ]
        }
      ]
    },
    {
      "cell_type": "code",
      "source": [
        "print(list_of_numbers)"
      ],
      "metadata": {
        "colab": {
          "base_uri": "https://localhost:8080/"
        },
        "id": "c1SIss_CZ2iK",
        "outputId": "a51fc6ad-4784-4a0e-ab3d-c3b0052d3590"
      },
      "execution_count": 244,
      "outputs": [
        {
          "output_type": "stream",
          "name": "stdout",
          "text": [
            "[1, 2, 4, 6, 11, 14, 17, 20]\n"
          ]
        }
      ]
    },
    {
      "cell_type": "code",
      "source": [
        "even_squared_numbers=[number**2 for number in list_of_numbers if number%2==0]\n",
        "print(even_squared_numbers)"
      ],
      "metadata": {
        "colab": {
          "base_uri": "https://localhost:8080/"
        },
        "id": "8shSW_ODZ4cG",
        "outputId": "3c4f46b9-de12-44dd-fca8-7ed04ada9896"
      },
      "execution_count": 245,
      "outputs": [
        {
          "output_type": "stream",
          "name": "stdout",
          "text": [
            "[4, 16, 36, 196, 400]\n"
          ]
        }
      ]
    },
    {
      "cell_type": "code",
      "source": [
        "odd_squared_numbers=[number**2 for number in list_of_numbers if number%2!=0]\n",
        "print(odd_squared_numbers)"
      ],
      "metadata": {
        "colab": {
          "base_uri": "https://localhost:8080/"
        },
        "id": "Jp5KQgZ7Z6UV",
        "outputId": "3706d010-0def-4bf9-a4d2-fe7ef54c27c1"
      },
      "execution_count": 246,
      "outputs": [
        {
          "output_type": "stream",
          "name": "stdout",
          "text": [
            "[1, 121, 289]\n"
          ]
        }
      ]
    },
    {
      "cell_type": "code",
      "source": [
        "odd_squared_numbers = [number**2 if number%2!=0 else number**3 for number in list_of_numbers]\n",
        "print(odd_squared_numbers)"
      ],
      "metadata": {
        "colab": {
          "base_uri": "https://localhost:8080/"
        },
        "id": "lORWKWtdZ8aj",
        "outputId": "c5c5f6f2-a3bf-4132-f962-bd52619798dd"
      },
      "execution_count": 247,
      "outputs": [
        {
          "output_type": "stream",
          "name": "stdout",
          "text": [
            "[1, 8, 64, 216, 121, 2744, 289, 8000]\n"
          ]
        }
      ]
    },
    {
      "cell_type": "code",
      "source": [
        "even_squared_numbers=[number**2 for number in list_of_numbers if number%2==0]"
      ],
      "metadata": {
        "id": "KWv6v3ILZ-ZD"
      },
      "execution_count": 248,
      "outputs": []
    },
    {
      "cell_type": "code",
      "source": [
        "list(range(4))"
      ],
      "metadata": {
        "colab": {
          "base_uri": "https://localhost:8080/"
        },
        "id": "FjtFvmg5aAy-",
        "outputId": "d205d863-663a-43d0-b145-197c0f38a25a"
      },
      "execution_count": 249,
      "outputs": [
        {
          "output_type": "execute_result",
          "data": {
            "text/plain": [
              "[0, 1, 2, 3]"
            ]
          },
          "metadata": {},
          "execution_count": 249
        }
      ]
    },
    {
      "cell_type": "code",
      "source": [
        "\n",
        "list_of_numbers=[]\n",
        "for num1 in range(4):\n",
        "  for num2 in range(3):\n",
        "    print(num1,num2)\n",
        "    list_of_numbers.append(num2)\n",
        "    print(list_of_numbers)"
      ],
      "metadata": {
        "colab": {
          "base_uri": "https://localhost:8080/"
        },
        "id": "Zxkztj7FaCs7",
        "outputId": "5997f230-8119-4a96-fe5c-53c4b64cbba2"
      },
      "execution_count": 250,
      "outputs": [
        {
          "output_type": "stream",
          "name": "stdout",
          "text": [
            "0 0\n",
            "[0]\n",
            "0 1\n",
            "[0, 1]\n",
            "0 2\n",
            "[0, 1, 2]\n",
            "1 0\n",
            "[0, 1, 2, 0]\n",
            "1 1\n",
            "[0, 1, 2, 0, 1]\n",
            "1 2\n",
            "[0, 1, 2, 0, 1, 2]\n",
            "2 0\n",
            "[0, 1, 2, 0, 1, 2, 0]\n",
            "2 1\n",
            "[0, 1, 2, 0, 1, 2, 0, 1]\n",
            "2 2\n",
            "[0, 1, 2, 0, 1, 2, 0, 1, 2]\n",
            "3 0\n",
            "[0, 1, 2, 0, 1, 2, 0, 1, 2, 0]\n",
            "3 1\n",
            "[0, 1, 2, 0, 1, 2, 0, 1, 2, 0, 1]\n",
            "3 2\n",
            "[0, 1, 2, 0, 1, 2, 0, 1, 2, 0, 1, 2]\n"
          ]
        }
      ]
    },
    {
      "cell_type": "code",
      "source": [
        "list_of_numbers= [num2 for num1 in range(4) for num2 in range(3)]\n",
        "print(list_of_numbers)"
      ],
      "metadata": {
        "colab": {
          "base_uri": "https://localhost:8080/"
        },
        "id": "4Fwz__ARaEiI",
        "outputId": "9e0f98cf-8f1b-47f0-f541-ff7f80ae3210"
      },
      "execution_count": 251,
      "outputs": [
        {
          "output_type": "stream",
          "name": "stdout",
          "text": [
            "[0, 1, 2, 0, 1, 2, 0, 1, 2, 0, 1, 2]\n"
          ]
        }
      ]
    },
    {
      "cell_type": "code",
      "source": [
        "list_of_numbers=[num2**2 for num2 in range(3) for num1 in range(4)]\n",
        "print(list_of_numbers)"
      ],
      "metadata": {
        "colab": {
          "base_uri": "https://localhost:8080/"
        },
        "id": "fqz_FB_7aGmV",
        "outputId": "62726df8-6aac-43a2-ce9c-7b63b4dab6dd"
      },
      "execution_count": 252,
      "outputs": [
        {
          "output_type": "stream",
          "name": "stdout",
          "text": [
            "[0, 0, 0, 0, 1, 1, 1, 1, 4, 4, 4, 4]\n"
          ]
        }
      ]
    },
    {
      "cell_type": "code",
      "source": [
        "sample=[[]]\n",
        "len(sample)\n",
        "sample[0]"
      ],
      "metadata": {
        "colab": {
          "base_uri": "https://localhost:8080/"
        },
        "id": "2smkKTqNaIq8",
        "outputId": "9b327fe9-59ee-48a4-a306-851485a2c8a4"
      },
      "execution_count": 253,
      "outputs": [
        {
          "output_type": "execute_result",
          "data": {
            "text/plain": [
              "[]"
            ]
          },
          "metadata": {},
          "execution_count": 253
        }
      ]
    },
    {
      "cell_type": "code",
      "source": [
        "list_of_lists=[1]\n",
        "list_of_lists.append([])"
      ],
      "metadata": {
        "id": "339hm-xtaKj9"
      },
      "execution_count": 254,
      "outputs": []
    },
    {
      "cell_type": "code",
      "source": [
        "list_of_lists=[[num1 for num2 in range(3)] for num1 in range(4)]\n",
        "print(list_of_lists)"
      ],
      "metadata": {
        "colab": {
          "base_uri": "https://localhost:8080/"
        },
        "id": "4Af5dHVPaPh8",
        "outputId": "96c03cde-0727-4eb7-a80b-6cc487b7740c"
      },
      "execution_count": 256,
      "outputs": [
        {
          "output_type": "stream",
          "name": "stdout",
          "text": [
            "[[0, 0, 0], [1, 1, 1], [2, 2, 2], [3, 3, 3]]\n"
          ]
        }
      ]
    },
    {
      "cell_type": "code",
      "source": [
        "heisenberg_quote= \"It ceases to exist without me. No,you clearly don't know who you're talkingto, so let me clue you in. I am not in danger,Skyler. I am the danger\"\n",
        "words_by_walter = heisenberg_quote.split(' ')\n",
        "print(words_by_walter)"
      ],
      "metadata": {
        "colab": {
          "base_uri": "https://localhost:8080/"
        },
        "id": "3mZJMPOqaTIn",
        "outputId": "501dba9e-8e1c-4e86-eb83-828478391895"
      },
      "execution_count": 257,
      "outputs": [
        {
          "output_type": "stream",
          "name": "stdout",
          "text": [
            "['It', 'ceases', 'to', 'exist', 'without', 'me.', 'No,you', 'clearly', \"don't\", 'know', 'who', \"you're\", 'talkingto,', 'so', 'let', 'me', 'clue', 'you', 'in.', 'I', 'am', 'not', 'in', 'danger,Skyler.', 'I', 'am', 'the', 'danger']\n"
          ]
        }
      ]
    },
    {
      "cell_type": "code",
      "source": [
        "heisenberg_quote.split('t')"
      ],
      "metadata": {
        "colab": {
          "base_uri": "https://localhost:8080/"
        },
        "id": "4oRCHZdhaU3U",
        "outputId": "14e06c46-be01-4984-cfb1-0e7206b04187"
      },
      "execution_count": 258,
      "outputs": [
        {
          "output_type": "execute_result",
          "data": {
            "text/plain": [
              "['I',\n",
              " ' ceases ',\n",
              " 'o exis',\n",
              " ' wi',\n",
              " 'hou',\n",
              " \" me. No,you clearly don'\",\n",
              " \" know who you're \",\n",
              " 'alking',\n",
              " 'o, so le',\n",
              " ' me clue you in. I am no',\n",
              " ' in danger,Skyler. I am ',\n",
              " 'he danger']"
            ]
          },
          "metadata": {},
          "execution_count": 258
        }
      ]
    },
    {
      "cell_type": "code",
      "source": [
        "first_letters = []\n",
        "for word in words_by_walter:\n",
        "  first_letters.append(word[0])"
      ],
      "metadata": {
        "id": "E7yGj8InaWqv"
      },
      "execution_count": 259,
      "outputs": []
    },
    {
      "cell_type": "code",
      "source": [
        "print(first_letters)"
      ],
      "metadata": {
        "colab": {
          "base_uri": "https://localhost:8080/"
        },
        "id": "oaYosLMJaY_H",
        "outputId": "4ad32840-49f5-49b6-d991-636fea6fe743"
      },
      "execution_count": 260,
      "outputs": [
        {
          "output_type": "stream",
          "name": "stdout",
          "text": [
            "['I', 'c', 't', 'e', 'w', 'm', 'N', 'c', 'd', 'k', 'w', 'y', 't', 's', 'l', 'm', 'c', 'y', 'i', 'I', 'a', 'n', 'i', 'd', 'I', 'a', 't', 'd']\n"
          ]
        }
      ]
    },
    {
      "cell_type": "code",
      "source": [
        "first_letters=[word[0] for word in words_by_walter]\n",
        "print(first_letters)"
      ],
      "metadata": {
        "colab": {
          "base_uri": "https://localhost:8080/"
        },
        "id": "E4aDyA_wabKI",
        "outputId": "58b54c54-2271-4bc1-9eb5-9560eb049302"
      },
      "execution_count": 261,
      "outputs": [
        {
          "output_type": "stream",
          "name": "stdout",
          "text": [
            "['I', 'c', 't', 'e', 'w', 'm', 'N', 'c', 'd', 'k', 'w', 'y', 't', 's', 'l', 'm', 'c', 'y', 'i', 'I', 'a', 'n', 'i', 'd', 'I', 'a', 't', 'd']\n"
          ]
        }
      ]
    },
    {
      "cell_type": "code",
      "source": [
        "heisenberg_quote.split(',')"
      ],
      "metadata": {
        "colab": {
          "base_uri": "https://localhost:8080/"
        },
        "id": "2LQ9TMfpaddg",
        "outputId": "57d10675-5985-4b99-ac52-19a4ee53c75a"
      },
      "execution_count": 262,
      "outputs": [
        {
          "output_type": "execute_result",
          "data": {
            "text/plain": [
              "['It ceases to exist without me. No',\n",
              " \"you clearly don't know who you're talkingto\",\n",
              " ' so let me clue you in. I am not in danger',\n",
              " 'Skyler. I am the danger']"
            ]
          },
          "metadata": {},
          "execution_count": 262
        }
      ]
    },
    {
      "cell_type": "code",
      "source": [
        "my_string='Alphsbet Inc.'\n",
        "list_of_characters= [char for char in my_string]\n",
        "print(list_of_characters)"
      ],
      "metadata": {
        "colab": {
          "base_uri": "https://localhost:8080/"
        },
        "id": "ICUmgihOagWQ",
        "outputId": "4785ba21-cdcd-4c8a-edd6-e0dcec80c902"
      },
      "execution_count": 263,
      "outputs": [
        {
          "output_type": "stream",
          "name": "stdout",
          "text": [
            "['A', 'l', 'p', 'h', 's', 'b', 'e', 't', ' ', 'I', 'n', 'c', '.']\n"
          ]
        }
      ]
    },
    {
      "cell_type": "code",
      "source": [
        "days = ('Monday','Tuesday','Wednesday','Thursday','Friday','Saturday','Sunday')\n",
        "tuple(day for day in days)"
      ],
      "metadata": {
        "colab": {
          "base_uri": "https://localhost:8080/"
        },
        "id": "rxOCHLBraiVO",
        "outputId": "cb317d69-c94a-4e3f-993a-e0b72fce4f87"
      },
      "execution_count": 264,
      "outputs": [
        {
          "output_type": "execute_result",
          "data": {
            "text/plain": [
              "('Monday', 'Tuesday', 'Wednesday', 'Thursday', 'Friday', 'Saturday', 'Sunday')"
            ]
          },
          "metadata": {},
          "execution_count": 264
        }
      ]
    },
    {
      "cell_type": "code",
      "source": [
        "days_without_day = tuple([day[:-3] for day in days])\n",
        "print(days_without_day)"
      ],
      "metadata": {
        "colab": {
          "base_uri": "https://localhost:8080/"
        },
        "id": "2wbvVHEEakaz",
        "outputId": "a8709f7a-07ab-4879-86c8-e31919f8cd5f"
      },
      "execution_count": 265,
      "outputs": [
        {
          "output_type": "stream",
          "name": "stdout",
          "text": [
            "('Mon', 'Tues', 'Wednes', 'Thurs', 'Fri', 'Satur', 'Sun')\n"
          ]
        }
      ]
    },
    {
      "cell_type": "code",
      "source": [
        "first_letters = set()\n",
        "for word in words_by_walter:\n",
        "  first_letters.add(word[0])\n",
        "  print(first_letters)"
      ],
      "metadata": {
        "colab": {
          "base_uri": "https://localhost:8080/"
        },
        "id": "7Bc1etHzal_D",
        "outputId": "54cab48c-4d3a-47ce-ae18-6845a05f82b3"
      },
      "execution_count": 266,
      "outputs": [
        {
          "output_type": "stream",
          "name": "stdout",
          "text": [
            "{'I'}\n",
            "{'I', 'c'}\n",
            "{'I', 'c', 't'}\n",
            "{'I', 'c', 'e', 't'}\n",
            "{'w', 'e', 't', 'I', 'c'}\n",
            "{'w', 'e', 'm', 't', 'I', 'c'}\n",
            "{'w', 'e', 'm', 'N', 't', 'I', 'c'}\n",
            "{'w', 'e', 'm', 'N', 't', 'I', 'c'}\n",
            "{'w', 'e', 'm', 'N', 't', 'd', 'I', 'c'}\n",
            "{'w', 'e', 'm', 'N', 't', 'k', 'd', 'I', 'c'}\n",
            "{'w', 'e', 'm', 'N', 't', 'k', 'd', 'I', 'c'}\n",
            "{'w', 'e', 'm', 'N', 't', 'k', 'd', 'I', 'c', 'y'}\n",
            "{'w', 'e', 'm', 'N', 't', 'k', 'd', 'I', 'c', 'y'}\n",
            "{'w', 'e', 'm', 'N', 't', 'k', 's', 'd', 'I', 'c', 'y'}\n",
            "{'w', 'e', 'm', 'N', 't', 'k', 's', 'd', 'I', 'c', 'y', 'l'}\n",
            "{'w', 'e', 'm', 'N', 't', 'k', 's', 'd', 'I', 'c', 'y', 'l'}\n",
            "{'w', 'e', 'm', 'N', 't', 'k', 's', 'd', 'I', 'c', 'y', 'l'}\n",
            "{'w', 'e', 'm', 'N', 't', 'k', 's', 'd', 'I', 'c', 'y', 'l'}\n",
            "{'w', 'e', 'm', 'N', 't', 'k', 's', 'd', 'I', 'c', 'i', 'y', 'l'}\n",
            "{'w', 'e', 'm', 'N', 't', 'k', 's', 'd', 'I', 'c', 'i', 'y', 'l'}\n",
            "{'w', 'e', 'm', 'N', 'a', 't', 'k', 's', 'd', 'I', 'c', 'i', 'y', 'l'}\n",
            "{'w', 'e', 'n', 'm', 'N', 'a', 't', 'k', 's', 'd', 'I', 'c', 'i', 'y', 'l'}\n",
            "{'w', 'e', 'n', 'm', 'N', 'a', 't', 'k', 's', 'd', 'I', 'c', 'i', 'y', 'l'}\n",
            "{'w', 'e', 'n', 'm', 'N', 'a', 't', 'k', 's', 'd', 'I', 'c', 'i', 'y', 'l'}\n",
            "{'w', 'e', 'n', 'm', 'N', 'a', 't', 'k', 's', 'd', 'I', 'c', 'i', 'y', 'l'}\n",
            "{'w', 'e', 'n', 'm', 'N', 'a', 't', 'k', 's', 'd', 'I', 'c', 'i', 'y', 'l'}\n",
            "{'w', 'e', 'n', 'm', 'N', 'a', 't', 'k', 's', 'd', 'I', 'c', 'i', 'y', 'l'}\n",
            "{'w', 'e', 'n', 'm', 'N', 'a', 't', 'k', 's', 'd', 'I', 'c', 'i', 'y', 'l'}\n"
          ]
        }
      ]
    },
    {
      "cell_type": "code",
      "source": [
        "first_letters = {word[0] for word in words_by_walter}\n",
        "print(first_letters)"
      ],
      "metadata": {
        "colab": {
          "base_uri": "https://localhost:8080/"
        },
        "id": "WwtAvsN1anvH",
        "outputId": "6e07a85c-b2eb-4a20-8f93-8d88ff74ce12"
      },
      "execution_count": 267,
      "outputs": [
        {
          "output_type": "stream",
          "name": "stdout",
          "text": [
            "{'w', 'e', 'n', 'm', 'N', 'a', 't', 'k', 's', 'd', 'I', 'c', 'i', 'y', 'l'}\n"
          ]
        }
      ]
    },
    {
      "cell_type": "code",
      "source": [
        "country_city_list = [('India','New Delhi'), ('Australia','Canberra'), ('United States' ,'Washington DC'),('England','London')]"
      ],
      "metadata": {
        "id": "MAzeKq46ap55"
      },
      "execution_count": 268,
      "outputs": []
    },
    {
      "cell_type": "code",
      "source": [
        "country_city_dict = dict(country_city_list)\n",
        "print(country_city_dict)"
      ],
      "metadata": {
        "colab": {
          "base_uri": "https://localhost:8080/"
        },
        "id": "VJE49w2BassS",
        "outputId": "6c5d5e7a-3578-4437-ce70-e1ec75fb7192"
      },
      "execution_count": 269,
      "outputs": [
        {
          "output_type": "stream",
          "name": "stdout",
          "text": [
            "{'India': 'New Delhi', 'Australia': 'Canberra', 'United States': 'Washington DC', 'England': 'London'}\n"
          ]
        }
      ]
    },
    {
      "cell_type": "code",
      "source": [
        "flipped = {}\n",
        "for country, city in country_city_dict.items():\n",
        "  flipped[city] = country\n",
        "\n",
        "print(flipped)"
      ],
      "metadata": {
        "colab": {
          "base_uri": "https://localhost:8080/"
        },
        "id": "mLSWqYSbauog",
        "outputId": "0efee733-23d5-4fab-9303-c92e5f51afc2"
      },
      "execution_count": 270,
      "outputs": [
        {
          "output_type": "stream",
          "name": "stdout",
          "text": [
            "{'New Delhi': 'India', 'Canberra': 'Australia', 'Washington DC': 'United States', 'London': 'England'}\n"
          ]
        }
      ]
    },
    {
      "cell_type": "code",
      "source": [
        "flipped={city:country for country, city in country_city_dict.items()}\n",
        "print(flipped)"
      ],
      "metadata": {
        "colab": {
          "base_uri": "https://localhost:8080/"
        },
        "id": "_cWE7mnCawax",
        "outputId": "a1fac56d-56cd-4525-db9c-0b5bf5f8fccf"
      },
      "execution_count": 271,
      "outputs": [
        {
          "output_type": "stream",
          "name": "stdout",
          "text": [
            "{'New Delhi': 'India', 'Canberra': 'Australia', 'Washington DC': 'United States', 'London': 'England'}\n"
          ]
        }
      ]
    },
    {
      "cell_type": "code",
      "source": [
        "flipped={city:country for country, city in country_city_dict.items() if country[0] in ['E','A']}\n",
        "print(flipped)"
      ],
      "metadata": {
        "colab": {
          "base_uri": "https://localhost:8080/"
        },
        "id": "HemVi5x4ayME",
        "outputId": "7c754757-d15e-4b44-9d08-9cba75af8b4b"
      },
      "execution_count": 272,
      "outputs": [
        {
          "output_type": "stream",
          "name": "stdout",
          "text": [
            "{'Canberra': 'Australia', 'London': 'England'}\n"
          ]
        }
      ]
    },
    {
      "cell_type": "code",
      "source": [
        "flipped={country[:2] : city[-2:] for country, city in country_city_dict.items()}\n",
        "print(flipped)"
      ],
      "metadata": {
        "id": "dBwpIRmraztR"
      },
      "execution_count": null,
      "outputs": []
    },
    {
      "cell_type": "code",
      "source": [
        "\n",
        "print(country_city_dict)"
      ],
      "metadata": {
        "id": "giFhDtQ5b-RJ"
      },
      "execution_count": null,
      "outputs": []
    },
    {
      "cell_type": "code",
      "source": [],
      "metadata": {
        "id": "3dBDJd1ob_5W"
      },
      "execution_count": null,
      "outputs": []
    }
  ]
}