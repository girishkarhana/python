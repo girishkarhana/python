{
  "nbformat": 4,
  "nbformat_minor": 0,
  "metadata": {
    "colab": {
      "provenance": [],
      "authorship_tag": "ABX9TyP8+6jsT0CzR1/FmZFWCYqw",
      "include_colab_link": true
    },
    "kernelspec": {
      "name": "python3",
      "display_name": "Python 3"
    },
    "language_info": {
      "name": "python"
    }
  },
  "cells": [
    {
      "cell_type": "markdown",
      "metadata": {
        "id": "view-in-github",
        "colab_type": "text"
      },
      "source": [
        "<a href=\"https://colab.research.google.com/github/girishkarhana/python/blob/main/Intro_to_string.ipynb\" target=\"_parent\"><img src=\"https://colab.research.google.com/assets/colab-badge.svg\" alt=\"Open In Colab\"/></a>"
      ]
    },
    {
      "cell_type": "code",
      "source": [
        "my_first_string=\"python day 02\"\n",
        "print(my_first_string)"
      ],
      "metadata": {
        "colab": {
          "base_uri": "https://localhost:8080/"
        },
        "id": "HxIWiYZjPZY1",
        "outputId": "c2b45d7c-705c-44e2-a5a0-97dfe7ad53ce"
      },
      "execution_count": 19,
      "outputs": [
        {
          "output_type": "stream",
          "name": "stdout",
          "text": [
            "python day 02\n"
          ]
        }
      ]
    },
    {
      "cell_type": "code",
      "source": [
        "phrase=\"it's comparitively very easy\"\n",
        "print(phrase)"
      ],
      "metadata": {
        "colab": {
          "base_uri": "https://localhost:8080/"
        },
        "id": "zviIlrlMPZwn",
        "outputId": "87e63e85-e03d-4a16-9853-27a1c2ca9d1a"
      },
      "execution_count": 20,
      "outputs": [
        {
          "output_type": "stream",
          "name": "stdout",
          "text": [
            "it's comparitively very easy\n"
          ]
        }
      ]
    },
    {
      "cell_type": "code",
      "source": [
        "hashtag=\"#dev #coder #hacker\"\n",
        "print(hashtag)\n",
        "type(hashtag)\n"
      ],
      "metadata": {
        "colab": {
          "base_uri": "https://localhost:8080/"
        },
        "id": "QzeM0VACPbEX",
        "outputId": "cde48d74-4670-41c8-fb21-97a9675e80ea"
      },
      "execution_count": 21,
      "outputs": [
        {
          "output_type": "stream",
          "name": "stdout",
          "text": [
            "#dev #coder #hacker\n"
          ]
        },
        {
          "output_type": "execute_result",
          "data": {
            "text/plain": [
              "str"
            ]
          },
          "metadata": {},
          "execution_count": 21
        }
      ]
    },
    {
      "cell_type": "code",
      "source": [
        "'Deep Learning'"
      ],
      "metadata": {
        "colab": {
          "base_uri": "https://localhost:8080/",
          "height": 35
        },
        "id": "uwaCxeTkPcdN",
        "outputId": "1fc891be-ac04-4be6-b2a0-b7352d27480f"
      },
      "execution_count": 22,
      "outputs": [
        {
          "output_type": "execute_result",
          "data": {
            "text/plain": [
              "'Deep Learning'"
            ],
            "application/vnd.google.colaboratory.intrinsic+json": {
              "type": "string"
            }
          },
          "metadata": {},
          "execution_count": 22
        }
      ]
    },
    {
      "cell_type": "code",
      "source": [
        "print(\"just now i learned to print a new line\")\n",
        "print('\\nsee! and below is the quote of the day :)')"
      ],
      "metadata": {
        "colab": {
          "base_uri": "https://localhost:8080/"
        },
        "id": "Ga9QbEmFPeFF",
        "outputId": "bd2b9a90-43e5-4e49-e1f9-a9d636c78194"
      },
      "execution_count": 23,
      "outputs": [
        {
          "output_type": "stream",
          "name": "stdout",
          "text": [
            "just now i learned to print a new line\n",
            "\n",
            "see! and below is the quote of the day :)\n"
          ]
        }
      ]
    },
    {
      "cell_type": "code",
      "source": [
        "algo ='blue sky'\n",
        "len(algo)"
      ],
      "metadata": {
        "colab": {
          "base_uri": "https://localhost:8080/"
        },
        "id": "700ZOYPdPf2T",
        "outputId": "0f36a0b7-25b2-401b-d0e4-bd8db929fbe6"
      },
      "execution_count": 24,
      "outputs": [
        {
          "output_type": "execute_result",
          "data": {
            "text/plain": [
              "8"
            ]
          },
          "metadata": {},
          "execution_count": 24
        }
      ]
    },
    {
      "cell_type": "code",
      "source": [
        "string='Money Power Glory!'\n",
        "print(string)"
      ],
      "metadata": {
        "colab": {
          "base_uri": "https://localhost:8080/"
        },
        "id": "brWerStsPhFH",
        "outputId": "894d3cad-3ad5-48ec-9f12-edeeb16458d9"
      },
      "execution_count": 25,
      "outputs": [
        {
          "output_type": "stream",
          "name": "stdout",
          "text": [
            "Money Power Glory!\n"
          ]
        }
      ]
    },
    {
      "cell_type": "code",
      "source": [
        "print(string[-6])\n",
        "print(string[-16])\n",
        "print(string[-6])\n",
        "print(string[-18])\n",
        "\n",
        "len(string)"
      ],
      "metadata": {
        "colab": {
          "base_uri": "https://localhost:8080/"
        },
        "id": "7wvku1bmPi7k",
        "outputId": "900bfda9-7c94-4712-b9a1-f7a63556892b"
      },
      "execution_count": 26,
      "outputs": [
        {
          "output_type": "stream",
          "name": "stdout",
          "text": [
            "G\n",
            "n\n",
            "G\n",
            "M\n"
          ]
        },
        {
          "output_type": "execute_result",
          "data": {
            "text/plain": [
              "18"
            ]
          },
          "metadata": {},
          "execution_count": 26
        }
      ]
    },
    {
      "cell_type": "code",
      "source": [
        "print(string[-2])"
      ],
      "metadata": {
        "colab": {
          "base_uri": "https://localhost:8080/"
        },
        "id": "WzB9Fe24PkXk",
        "outputId": "430aa5bb-0783-4688-d9c9-bc5f25244a9b"
      },
      "execution_count": 27,
      "outputs": [
        {
          "output_type": "stream",
          "name": "stdout",
          "text": [
            "y\n"
          ]
        }
      ]
    },
    {
      "cell_type": "code",
      "source": [
        "print(string)\n",
        "print(string[1:])\n",
        "print(string[13:])"
      ],
      "metadata": {
        "colab": {
          "base_uri": "https://localhost:8080/"
        },
        "id": "AFPhVwMiPmEs",
        "outputId": "d383d07e-304f-4fd5-bb6e-b51fd89088e6"
      },
      "execution_count": 28,
      "outputs": [
        {
          "output_type": "stream",
          "name": "stdout",
          "text": [
            "Money Power Glory!\n",
            "oney Power Glory!\n",
            "lory!\n"
          ]
        }
      ]
    },
    {
      "cell_type": "code",
      "source": [
        "print(string[10:])\n",
        "print(string[3:5])\n",
        "print(string[2:4])"
      ],
      "metadata": {
        "colab": {
          "base_uri": "https://localhost:8080/"
        },
        "id": "0lpIslcsPoTo",
        "outputId": "3d6c2c64-76c3-4a92-cb21-cd416f11f4b7"
      },
      "execution_count": 29,
      "outputs": [
        {
          "output_type": "stream",
          "name": "stdout",
          "text": [
            "r Glory!\n",
            "ey\n",
            "ne\n"
          ]
        }
      ]
    },
    {
      "cell_type": "code",
      "source": [
        "print(string[:])\n",
        "print(string)"
      ],
      "metadata": {
        "colab": {
          "base_uri": "https://localhost:8080/"
        },
        "id": "yeULXlf8PqfO",
        "outputId": "aaa51b6f-4782-4c2b-ea57-74352a5281ee"
      },
      "execution_count": 30,
      "outputs": [
        {
          "output_type": "stream",
          "name": "stdout",
          "text": [
            "Money Power Glory!\n",
            "Money Power Glory!\n"
          ]
        }
      ]
    },
    {
      "cell_type": "code",
      "source": [
        "string[-2]\n",
        "string[-1:-4]"
      ],
      "metadata": {
        "colab": {
          "base_uri": "https://localhost:8080/",
          "height": 35
        },
        "id": "fYus4g7yPsNr",
        "outputId": "fbc2b993-7a9d-4132-e11e-3b92638d59dc"
      },
      "execution_count": 31,
      "outputs": [
        {
          "output_type": "execute_result",
          "data": {
            "text/plain": [
              "''"
            ],
            "application/vnd.google.colaboratory.intrinsic+json": {
              "type": "string"
            }
          },
          "metadata": {},
          "execution_count": 31
        }
      ]
    },
    {
      "cell_type": "code",
      "source": [
        "print(string)\n",
        "print(string[::3])"
      ],
      "metadata": {
        "colab": {
          "base_uri": "https://localhost:8080/"
        },
        "id": "WYqe4d1oPtpP",
        "outputId": "1461bf76-aa27-4417-e1e6-92f4d2d600a0"
      },
      "execution_count": 32,
      "outputs": [
        {
          "output_type": "stream",
          "name": "stdout",
          "text": [
            "Money Power Glory!\n",
            "MePeGr\n"
          ]
        }
      ]
    },
    {
      "cell_type": "code",
      "source": [
        "print(string)\n",
        "(string[::-1])"
      ],
      "metadata": {
        "colab": {
          "base_uri": "https://localhost:8080/",
          "height": 53
        },
        "id": "U3PR609WPu0m",
        "outputId": "de6d13c3-048b-4dc1-f093-097ff6557a11"
      },
      "execution_count": 33,
      "outputs": [
        {
          "output_type": "stream",
          "name": "stdout",
          "text": [
            "Money Power Glory!\n"
          ]
        },
        {
          "output_type": "execute_result",
          "data": {
            "text/plain": [
              "'!yrolG rewoP yenoM'"
            ],
            "application/vnd.google.colaboratory.intrinsic+json": {
              "type": "string"
            }
          },
          "metadata": {},
          "execution_count": 33
        }
      ]
    },
    {
      "cell_type": "code",
      "source": [
        "print(string)\n",
        "string[2:4:-1]\n",
        "string[4:2:-1]"
      ],
      "metadata": {
        "colab": {
          "base_uri": "https://localhost:8080/",
          "height": 53
        },
        "id": "7l3isVyVPwTJ",
        "outputId": "09ec5715-95d4-41a5-9ee9-f01f98f76075"
      },
      "execution_count": 34,
      "outputs": [
        {
          "output_type": "stream",
          "name": "stdout",
          "text": [
            "Money Power Glory!\n"
          ]
        },
        {
          "output_type": "execute_result",
          "data": {
            "text/plain": [
              "'ye'"
            ],
            "application/vnd.google.colaboratory.intrinsic+json": {
              "type": "string"
            }
          },
          "metadata": {},
          "execution_count": 34
        }
      ]
    },
    {
      "cell_type": "code",
      "source": [
        "string1='abc'\n",
        "string2='def'\n",
        "print(string1 +' '+ string2)\n",
        "print(string1 + '4' + string2)"
      ],
      "metadata": {
        "colab": {
          "base_uri": "https://localhost:8080/"
        },
        "id": "u6WLnBRQP0MI",
        "outputId": "2da84c04-560b-4558-f394-12e11d5356b4"
      },
      "execution_count": 37,
      "outputs": [
        {
          "output_type": "stream",
          "name": "stdout",
          "text": [
            "abc def\n",
            "abc4def\n"
          ]
        }
      ]
    },
    {
      "cell_type": "code",
      "source": [
        "string1='abc'\n",
        "string2='def'\n",
        "num = 4\n",
        "print(string1 + str(4) + string2)"
      ],
      "metadata": {
        "colab": {
          "base_uri": "https://localhost:8080/"
        },
        "id": "Yp0_d9ZOQF6I",
        "outputId": "f44d103f-7e20-416c-a4fd-15b4bf65f658"
      },
      "execution_count": 38,
      "outputs": [
        {
          "output_type": "stream",
          "name": "stdout",
          "text": [
            "abc4def\n"
          ]
        }
      ]
    },
    {
      "cell_type": "code",
      "source": [
        "string1='abc'\n",
        "string2='def'\n",
        "string1 + '4' + string2"
      ],
      "metadata": {
        "colab": {
          "base_uri": "https://localhost:8080/",
          "height": 35
        },
        "id": "IxI0Q_l8QHWC",
        "outputId": "db84990a-735e-4c29-b0f3-463cd09a1dfb"
      },
      "execution_count": 39,
      "outputs": [
        {
          "output_type": "execute_result",
          "data": {
            "text/plain": [
              "'abc4def'"
            ],
            "application/vnd.google.colaboratory.intrinsic+json": {
              "type": "string"
            }
          },
          "metadata": {},
          "execution_count": 39
        }
      ]
    },
    {
      "cell_type": "code",
      "source": [
        "print(string)\n"
      ],
      "metadata": {
        "colab": {
          "base_uri": "https://localhost:8080/"
        },
        "id": "Dki8WroXQJNF",
        "outputId": "9c13f5cc-c413-4386-80e5-154bac142849"
      },
      "execution_count": 40,
      "outputs": [
        {
          "output_type": "stream",
          "name": "stdout",
          "text": [
            "Hello\n"
          ]
        }
      ]
    },
    {
      "cell_type": "code",
      "source": [
        "string= string + 'concatenate me!'\n",
        "print(string)"
      ],
      "metadata": {
        "colab": {
          "base_uri": "https://localhost:8080/"
        },
        "id": "FsDwGg7jQMbg",
        "outputId": "9ecb6c17-9a79-493a-cf6c-3cbd515a284a"
      },
      "execution_count": 41,
      "outputs": [
        {
          "output_type": "stream",
          "name": "stdout",
          "text": [
            "Helloconcatenate me!\n"
          ]
        }
      ]
    },
    {
      "cell_type": "code",
      "source": [
        "letters= 'uwu'\n",
        "letters*2"
      ],
      "metadata": {
        "colab": {
          "base_uri": "https://localhost:8080/",
          "height": 35
        },
        "id": "pBQUZSQmQOCp",
        "outputId": "522d0afc-4857-47be-d659-cf6f8f7f676c"
      },
      "execution_count": 42,
      "outputs": [
        {
          "output_type": "execute_result",
          "data": {
            "text/plain": [
              "'uwuuwu'"
            ],
            "application/vnd.google.colaboratory.intrinsic+json": {
              "type": "string"
            }
          },
          "metadata": {},
          "execution_count": 42
        }
      ]
    },
    {
      "cell_type": "code",
      "source": [
        "algorithm = 'neural networks'\n",
        "print(algorithm)"
      ],
      "metadata": {
        "colab": {
          "base_uri": "https://localhost:8080/"
        },
        "id": "ntLjRQ2gQQB-",
        "outputId": "1917780c-050a-4dcf-80ac-3c5f33883a09"
      },
      "execution_count": 43,
      "outputs": [
        {
          "output_type": "stream",
          "name": "stdout",
          "text": [
            "neural networks\n"
          ]
        }
      ]
    },
    {
      "cell_type": "code",
      "source": [
        "len(algorithm)"
      ],
      "metadata": {
        "colab": {
          "base_uri": "https://localhost:8080/"
        },
        "id": "n6nDGeRQQRoU",
        "outputId": "a8aa0396-8243-416b-a3f7-52afd929a00c"
      },
      "execution_count": 44,
      "outputs": [
        {
          "output_type": "execute_result",
          "data": {
            "text/plain": [
              "15"
            ]
          },
          "metadata": {},
          "execution_count": 44
        }
      ]
    },
    {
      "cell_type": "code",
      "source": [
        "algorithm.lower()\n",
        "print(algorithm)"
      ],
      "metadata": {
        "colab": {
          "base_uri": "https://localhost:8080/"
        },
        "id": "ShDwiW7_QXIf",
        "outputId": "b3aade74-4380-499b-8308-016e66c6ed1d"
      },
      "execution_count": 45,
      "outputs": [
        {
          "output_type": "stream",
          "name": "stdout",
          "text": [
            "neural networks\n"
          ]
        }
      ]
    },
    {
      "cell_type": "code",
      "source": [
        "algorithm.upper()\n",
        "print(algorithm)\n",
        "algorithm.count('networks')\n",
        "algorithm.count('eu')\n",
        "algorithm.count(' ')\n",
        "algorithm.count('neural')\n",
        "algorithm.count('neurla')"
      ],
      "metadata": {
        "colab": {
          "base_uri": "https://localhost:8080/"
        },
        "id": "F7Qi15bHQZcH",
        "outputId": "629648cd-0c8a-41a5-a6e1-4f3e0428a975"
      },
      "execution_count": 46,
      "outputs": [
        {
          "output_type": "stream",
          "name": "stdout",
          "text": [
            "neural networks\n"
          ]
        },
        {
          "output_type": "execute_result",
          "data": {
            "text/plain": [
              "0"
            ]
          },
          "metadata": {},
          "execution_count": 46
        }
      ]
    },
    {
      "cell_type": "code",
      "source": [
        "algorithm.find('r')\n",
        "algorithm.find('neural')\n",
        "algorithm.find('box')"
      ],
      "metadata": {
        "colab": {
          "base_uri": "https://localhost:8080/"
        },
        "id": "Lpwrp3fCQbDm",
        "outputId": "4fdbdbcc-d764-4844-e6b4-5e66a1ab0524"
      },
      "execution_count": 47,
      "outputs": [
        {
          "output_type": "execute_result",
          "data": {
            "text/plain": [
              "-1"
            ]
          },
          "metadata": {},
          "execution_count": 47
        }
      ]
    },
    {
      "cell_type": "code",
      "source": [
        "algorithm = 'neural networks'\n",
        "print(algorithm)\n",
        "algorithm.replace(' ','-')\n",
        "algorithm.replace('N','L')"
      ],
      "metadata": {
        "colab": {
          "base_uri": "https://localhost:8080/",
          "height": 53
        },
        "id": "KVw4rJ8PQdnS",
        "outputId": "e63f6ec3-f2f0-4ce1-a296-2acb5b822b36"
      },
      "execution_count": 48,
      "outputs": [
        {
          "output_type": "stream",
          "name": "stdout",
          "text": [
            "neural networks\n"
          ]
        },
        {
          "output_type": "execute_result",
          "data": {
            "text/plain": [
              "'neural networks'"
            ],
            "application/vnd.google.colaboratory.intrinsic+json": {
              "type": "string"
            }
          },
          "metadata": {},
          "execution_count": 48
        }
      ]
    },
    {
      "cell_type": "code",
      "source": [
        "algorithm_revised = algorithm.replace('Neural','Artificial Neural')\n",
        "print(algorithm_revised)\n",
        "print(algorithm)\n"
      ],
      "metadata": {
        "colab": {
          "base_uri": "https://localhost:8080/"
        },
        "id": "8MiNQ9uxQff0",
        "outputId": "37627c03-7a1e-4539-c5e7-847c941de6b0"
      },
      "execution_count": 49,
      "outputs": [
        {
          "output_type": "stream",
          "name": "stdout",
          "text": [
            "neural networks\n",
            "neural networks\n"
          ]
        }
      ]
    },
    {
      "cell_type": "code",
      "source": [
        "first_name = 'rawat'\n",
        "last_name = 'suraj'\n",
        "full_name = f'mom and dad made {last_name} {first_name}'\n",
        "print(full_name)"
      ],
      "metadata": {
        "colab": {
          "base_uri": "https://localhost:8080/"
        },
        "id": "Yi_sCOiwQhDB",
        "outputId": "0e8ce055-24d6-4afa-9589-9beacf79ecbb"
      },
      "execution_count": 50,
      "outputs": [
        {
          "output_type": "stream",
          "name": "stdout",
          "text": [
            "mom and dad made suraj rawat\n"
          ]
        }
      ]
    },
    {
      "cell_type": "code",
      "source": [
        "first_name ='chanda'\n",
        "middle_name = ' '\n",
        "last_name = 'negi'\n",
        "full_name = f'obviously my name is {first_name} {middle_name} {last_name}. I am a Data Scientist'\n",
        "print(full_name)"
      ],
      "metadata": {
        "colab": {
          "base_uri": "https://localhost:8080/"
        },
        "id": "5iNu48ACQjAL",
        "outputId": "764aa389-8f02-4ba9-9af1-0cba68a81f51"
      },
      "execution_count": 51,
      "outputs": [
        {
          "output_type": "stream",
          "name": "stdout",
          "text": [
            "obviously my name is chanda   negi. I am a Data Scientist\n"
          ]
        }
      ]
    },
    {
      "cell_type": "code",
      "source": [
        "my_string = 'Nicola Tesla'\n",
        "'boba' in my_string"
      ],
      "metadata": {
        "colab": {
          "base_uri": "https://localhost:8080/"
        },
        "id": "-WUei1KEQk8j",
        "outputId": "a633e311-efd0-4338-ced0-d32113700a38"
      },
      "execution_count": 52,
      "outputs": [
        {
          "output_type": "execute_result",
          "data": {
            "text/plain": [
              "False"
            ]
          },
          "metadata": {},
          "execution_count": 52
        }
      ]
    },
    {
      "cell_type": "code",
      "source": [
        "'Tesla' in my_string"
      ],
      "metadata": {
        "colab": {
          "base_uri": "https://localhost:8080/"
        },
        "id": "i5SLuTlTQmY2",
        "outputId": "83dbf0b3-ad3c-484f-b632-376e1429f857"
      },
      "execution_count": 53,
      "outputs": [
        {
          "output_type": "execute_result",
          "data": {
            "text/plain": [
              "True"
            ]
          },
          "metadata": {},
          "execution_count": 53
        }
      ]
    },
    {
      "cell_type": "code",
      "source": [],
      "metadata": {
        "id": "E_Z9pekjQnx_"
      },
      "execution_count": null,
      "outputs": []
    }
  ]
}