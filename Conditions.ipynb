{
  "nbformat": 4,
  "nbformat_minor": 0,
  "metadata": {
    "colab": {
      "provenance": [],
      "authorship_tag": "ABX9TyN6LjTToqjpvtYJjVb5P6jB",
      "include_colab_link": true
    },
    "kernelspec": {
      "name": "python3",
      "display_name": "Python 3"
    },
    "language_info": {
      "name": "python"
    }
  },
  "cells": [
    {
      "cell_type": "markdown",
      "metadata": {
        "id": "view-in-github",
        "colab_type": "text"
      },
      "source": [
        "<a href=\"https://colab.research.google.com/github/girishkarhana/python/blob/main/Conditions.ipynb\" target=\"_parent\"><img src=\"https://colab.research.google.com/assets/colab-badge.svg\" alt=\"Open In Colab\"/></a>"
      ]
    },
    {
      "cell_type": "code",
      "source": [
        "x = 4\n",
        "print(8 + 3)\n",
        "print(len(\"Happy Birthday\"))"
      ],
      "metadata": {
        "colab": {
          "base_uri": "https://localhost:8080/"
        },
        "id": "RNsAyjNhW8-e",
        "outputId": "dce26bc1-16c5-45f8-a7df-6ce2515f2928"
      },
      "execution_count": 181,
      "outputs": [
        {
          "output_type": "stream",
          "name": "stdout",
          "text": [
            "11\n",
            "14\n"
          ]
        }
      ]
    },
    {
      "cell_type": "code",
      "source": [
        "y = 30106\n",
        "y"
      ],
      "metadata": {
        "colab": {
          "base_uri": "https://localhost:8080/"
        },
        "id": "xOV-bhjaW-W5",
        "outputId": "8094dc6b-a646-42b2-8ea8-dd726876e8be"
      },
      "execution_count": 182,
      "outputs": [
        {
          "output_type": "execute_result",
          "data": {
            "text/plain": [
              "30106"
            ]
          },
          "metadata": {},
          "execution_count": 182
        }
      ]
    },
    {
      "cell_type": "code",
      "source": [
        "s = 'smart'\n",
        "v = s == True\n",
        "s == 'smart'"
      ],
      "metadata": {
        "colab": {
          "base_uri": "https://localhost:8080/"
        },
        "id": "3skJF8dWW_dF",
        "outputId": "ee599bb0-b13b-44a3-9361-6007d710d116"
      },
      "execution_count": 183,
      "outputs": [
        {
          "output_type": "execute_result",
          "data": {
            "text/plain": [
              "True"
            ]
          },
          "metadata": {},
          "execution_count": 183
        }
      ]
    },
    {
      "cell_type": "code",
      "source": [
        "import pandas as pd\n",
        "print(s)"
      ],
      "metadata": {
        "colab": {
          "base_uri": "https://localhost:8080/"
        },
        "id": "_KKieEnnXAvB",
        "outputId": "4abf6e00-7f30-4f2f-e9e3-0806f951bd5f"
      },
      "execution_count": 184,
      "outputs": [
        {
          "output_type": "stream",
          "name": "stdout",
          "text": [
            "smart\n"
          ]
        }
      ]
    },
    {
      "cell_type": "code",
      "source": [
        "s = 3\n",
        "v = 8\n",
        "l = 4\n",
        "v = s + l\n",
        "v"
      ],
      "metadata": {
        "colab": {
          "base_uri": "https://localhost:8080/"
        },
        "id": "lia82UCGXCNc",
        "outputId": "547bdcb3-c894-44e5-d887-bf780f199f3f"
      },
      "execution_count": 185,
      "outputs": [
        {
          "output_type": "execute_result",
          "data": {
            "text/plain": [
              "7"
            ]
          },
          "metadata": {},
          "execution_count": 185
        }
      ]
    },
    {
      "cell_type": "code",
      "source": [
        "s = 1+2+3+4+5\n",
        "s"
      ],
      "metadata": {
        "colab": {
          "base_uri": "https://localhost:8080/"
        },
        "id": "nOzikSqJXDRz",
        "outputId": "51140712-2881-4a8f-8351-082bfdcbc544"
      },
      "execution_count": 186,
      "outputs": [
        {
          "output_type": "execute_result",
          "data": {
            "text/plain": [
              "15"
            ]
          },
          "metadata": {},
          "execution_count": 186
        }
      ]
    },
    {
      "cell_type": "code",
      "source": [
        "from re import M\n",
        "my_list = [3]\n",
        "my_tuple = (1,)\n",
        "my_list, my_tuple"
      ],
      "metadata": {
        "colab": {
          "base_uri": "https://localhost:8080/"
        },
        "id": "NV9R-ndyXFYY",
        "outputId": "0ed5f18b-3654-47ed-ecfa-f789b29ea038"
      },
      "execution_count": 187,
      "outputs": [
        {
          "output_type": "execute_result",
          "data": {
            "text/plain": [
              "([3], (1,))"
            ]
          },
          "metadata": {},
          "execution_count": 187
        }
      ]
    },
    {
      "cell_type": "code",
      "source": [
        "type(s)\n"
      ],
      "metadata": {
        "colab": {
          "base_uri": "https://localhost:8080/"
        },
        "id": "Wng4ADnCXGa2",
        "outputId": "9f6247c6-5ab6-42f7-f311-6748305b9247"
      },
      "execution_count": 188,
      "outputs": [
        {
          "output_type": "execute_result",
          "data": {
            "text/plain": [
              "int"
            ]
          },
          "metadata": {},
          "execution_count": 188
        }
      ]
    },
    {
      "cell_type": "code",
      "source": [
        "colors = 'the visual perception of light that is reflected, emitted, or absorbed by objects'\n",
        "colors"
      ],
      "metadata": {
        "colab": {
          "base_uri": "https://localhost:8080/",
          "height": 53
        },
        "id": "o6dTXI9BXHi6",
        "outputId": "b30726f1-d682-4562-e5de-0605fa8140dd"
      },
      "execution_count": 189,
      "outputs": [
        {
          "output_type": "execute_result",
          "data": {
            "text/plain": [
              "'the visual perception of light that is reflected, emitted, or absorbed by objects'"
            ],
            "application/vnd.google.colaboratory.intrinsic+json": {
              "type": "string"
            }
          },
          "metadata": {},
          "execution_count": 189
        }
      ]
    },
    {
      "cell_type": "code",
      "source": [
        "a = 1\n",
        "b = 2\n",
        "c = 90\n",
        "b*c\n"
      ],
      "metadata": {
        "colab": {
          "base_uri": "https://localhost:8080/"
        },
        "id": "pLV6XedpXI5t",
        "outputId": "57130acd-4f35-49af-d5cd-1e6d78f80afe"
      },
      "execution_count": 190,
      "outputs": [
        {
          "output_type": "execute_result",
          "data": {
            "text/plain": [
              "180"
            ]
          },
          "metadata": {},
          "execution_count": 190
        }
      ]
    },
    {
      "cell_type": "code",
      "source": [
        "a,b,c = ['v', 8, 'mar'], ('hpy','bdy'), {'20'}\n",
        "b"
      ],
      "metadata": {
        "colab": {
          "base_uri": "https://localhost:8080/"
        },
        "id": "miLSvSKwXLXx",
        "outputId": "e601ed2c-772e-482d-f8e3-eecf8b0cbc6f"
      },
      "execution_count": 191,
      "outputs": [
        {
          "output_type": "execute_result",
          "data": {
            "text/plain": [
              "('hpy', 'bdy')"
            ]
          },
          "metadata": {},
          "execution_count": 191
        }
      ]
    },
    {
      "cell_type": "code",
      "source": [
        "a,b = b,a\n",
        "a"
      ],
      "metadata": {
        "colab": {
          "base_uri": "https://localhost:8080/"
        },
        "id": "l-u0RYAxXM3C",
        "outputId": "384b66e4-d9b8-4a89-a857-1e03e6283ccb"
      },
      "execution_count": 192,
      "outputs": [
        {
          "output_type": "execute_result",
          "data": {
            "text/plain": [
              "('hpy', 'bdy')"
            ]
          },
          "metadata": {},
          "execution_count": 192
        }
      ]
    },
    {
      "cell_type": "code",
      "source": [
        "print('lesgo')"
      ],
      "metadata": {
        "colab": {
          "base_uri": "https://localhost:8080/"
        },
        "id": "dN5_5RsQXOFQ",
        "outputId": "7c062335-de1b-4fec-8061-1532f33bc817"
      },
      "execution_count": 193,
      "outputs": [
        {
          "output_type": "stream",
          "name": "stdout",
          "text": [
            "lesgo\n"
          ]
        }
      ]
    },
    {
      "cell_type": "code",
      "source": [
        "\n",
        "a = 9\n",
        "b = 4\n",
        "a"
      ],
      "metadata": {
        "colab": {
          "base_uri": "https://localhost:8080/"
        },
        "id": "pJiQWZ7nXPtA",
        "outputId": "b4b81be0-1b9b-4851-bba5-4e0a0eb1d724"
      },
      "execution_count": 194,
      "outputs": [
        {
          "output_type": "execute_result",
          "data": {
            "text/plain": [
              "9"
            ]
          },
          "metadata": {},
          "execution_count": 194
        }
      ]
    },
    {
      "cell_type": "code",
      "source": [
        "a = 3\n",
        "if a==4:\n",
        "  print(0)\n",
        "elif a==4:\n",
        "  print(9)\n",
        "else:\n",
        "    print('not 0 and 9')"
      ],
      "metadata": {
        "colab": {
          "base_uri": "https://localhost:8080/"
        },
        "id": "djlhNU9HXR3W",
        "outputId": "b8ff7b50-9d55-4935-8bae-6258f277d464"
      },
      "execution_count": 195,
      "outputs": [
        {
          "output_type": "stream",
          "name": "stdout",
          "text": [
            "not 0 and 9\n"
          ]
        }
      ]
    },
    {
      "cell_type": "code",
      "source": [
        "x = 99\n",
        "if x ==69:\n",
        "  print('x is greater than 50!')\n",
        "  print(f'x is{x}')"
      ],
      "metadata": {
        "id": "8ajaf6DGXTrC"
      },
      "execution_count": 196,
      "outputs": []
    },
    {
      "cell_type": "code",
      "source": [
        "x==4"
      ],
      "metadata": {
        "colab": {
          "base_uri": "https://localhost:8080/"
        },
        "id": "WkYh2fIOXU4r",
        "outputId": "0161d4da-0316-4c10-e18f-22896bb30c84"
      },
      "execution_count": 197,
      "outputs": [
        {
          "output_type": "execute_result",
          "data": {
            "text/plain": [
              "False"
            ]
          },
          "metadata": {},
          "execution_count": 197
        }
      ]
    },
    {
      "cell_type": "code",
      "source": [
        "x=False\n",
        "y=True\n",
        "\n",
        "if x:\n",
        "  print('y is true')\n",
        "else:\n",
        "  print('x is not true')"
      ],
      "metadata": {
        "colab": {
          "base_uri": "https://localhost:8080/"
        },
        "id": "oJ6jJv57XYL0",
        "outputId": "a29fd454-d762-4215-df56-1a136f0bbe71"
      },
      "execution_count": 198,
      "outputs": [
        {
          "output_type": "stream",
          "name": "stdout",
          "text": [
            "x is not true\n"
          ]
        }
      ]
    },
    {
      "cell_type": "code",
      "source": [
        "\n",
        "home= 'bricks'\n",
        "if home == 'bricks':\n",
        "  print('pucca house')\n",
        "elif home == 'mud':\n",
        "  print('mud house')\n",
        "else:\n",
        "  print('homeless')"
      ],
      "metadata": {
        "colab": {
          "base_uri": "https://localhost:8080/"
        },
        "id": "THC0ULl7XZss",
        "outputId": "d6488db5-8ec6-4aaf-d260-03763da353d6"
      },
      "execution_count": 199,
      "outputs": [
        {
          "output_type": "stream",
          "name": "stdout",
          "text": [
            "pucca house\n"
          ]
        }
      ]
    },
    {
      "cell_type": "code",
      "source": [
        "horse = 'maximus'\n",
        "if horse == 'max':\n",
        "  print(f'Welcoome {horse}')\n",
        "else:\n",
        "  print('not welcome')"
      ],
      "metadata": {
        "colab": {
          "base_uri": "https://localhost:8080/"
        },
        "id": "FaEH9uKgXa6i",
        "outputId": "5a2b1bbf-fc97-4575-f541-2d384bd1376d"
      },
      "execution_count": 200,
      "outputs": [
        {
          "output_type": "stream",
          "name": "stdout",
          "text": [
            "not welcome\n"
          ]
        }
      ]
    },
    {
      "cell_type": "code",
      "source": [
        "number1 = 78\n",
        "number2 = 56\n",
        "\n",
        "if number1 > 2:\n",
        "  if number2 > 45:\n",
        "    print(number1/number2)\n",
        "else:\n",
        "      print(number1-number2)"
      ],
      "metadata": {
        "colab": {
          "base_uri": "https://localhost:8080/"
        },
        "id": "-3YC-308Xca1",
        "outputId": "8ee74978-d241-4d9e-c56e-bbd201150758"
      },
      "execution_count": 201,
      "outputs": [
        {
          "output_type": "stream",
          "name": "stdout",
          "text": [
            "1.3928571428571428\n"
          ]
        }
      ]
    },
    {
      "cell_type": "code",
      "source": [
        "if False:\n",
        "  print('liar!')\n",
        "else:\n",
        "    print('i am blind')"
      ],
      "metadata": {
        "colab": {
          "base_uri": "https://localhost:8080/"
        },
        "id": "EdmRlyBRXenD",
        "outputId": "f81e1854-c8f1-4e02-eca2-02d46f65dfe4"
      },
      "execution_count": 202,
      "outputs": [
        {
          "output_type": "stream",
          "name": "stdout",
          "text": [
            "i am blind\n"
          ]
        }
      ]
    },
    {
      "cell_type": "code",
      "source": [
        "if [None]:\n",
        "  print('true')\n",
        "else:\n",
        "  print('false')"
      ],
      "metadata": {
        "colab": {
          "base_uri": "https://localhost:8080/"
        },
        "id": "JT0WyOLJXf9p",
        "outputId": "30188a56-3f54-48dd-c59f-f881c6aeb13b"
      },
      "execution_count": 203,
      "outputs": [
        {
          "output_type": "stream",
          "name": "stdout",
          "text": [
            "true\n"
          ]
        }
      ]
    },
    {
      "cell_type": "code",
      "source": [
        "if {2:4,4:8}:\n",
        "  print('easy')\n",
        "else:\n",
        "  print('hard')"
      ],
      "metadata": {
        "colab": {
          "base_uri": "https://localhost:8080/"
        },
        "id": "Qyv3hqQlXhJj",
        "outputId": "8dc6b535-836a-4381-85e2-09307068ef62"
      },
      "execution_count": 204,
      "outputs": [
        {
          "output_type": "stream",
          "name": "stdout",
          "text": [
            "easy\n"
          ]
        }
      ]
    }
  ]
}