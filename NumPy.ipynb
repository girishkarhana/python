{
  "nbformat": 4,
  "nbformat_minor": 0,
  "metadata": {
    "colab": {
      "provenance": [],
      "authorship_tag": "ABX9TyOsSgq3M2o+TozMEF9w3UBh",
      "include_colab_link": true
    },
    "kernelspec": {
      "name": "python3",
      "display_name": "Python 3"
    },
    "language_info": {
      "name": "python"
    }
  },
  "cells": [
    {
      "cell_type": "markdown",
      "metadata": {
        "id": "view-in-github",
        "colab_type": "text"
      },
      "source": [
        "<a href=\"https://colab.research.google.com/github/girishkarhana/python/blob/main/NumPy.ipynb\" target=\"_parent\"><img src=\"https://colab.research.google.com/assets/colab-badge.svg\" alt=\"Open In Colab\"/></a>"
      ]
    },
    {
      "cell_type": "code",
      "source": [
        "import numpy as np\n",
        "import math as math\n",
        "import sys"
      ],
      "metadata": {
        "id": "vyrfUvDZezz0"
      },
      "execution_count": 344,
      "outputs": []
    },
    {
      "cell_type": "code",
      "source": [
        "my_array = np.array([1,2,3,4,5,6])\n",
        "type(my_array)"
      ],
      "metadata": {
        "colab": {
          "base_uri": "https://localhost:8080/"
        },
        "id": "vozm6j1pfCv3",
        "outputId": "89668157-9092-4dad-9047-54bb64ce72f2"
      },
      "execution_count": 345,
      "outputs": [
        {
          "output_type": "execute_result",
          "data": {
            "text/plain": [
              "numpy.ndarray"
            ]
          },
          "metadata": {},
          "execution_count": 345
        }
      ]
    },
    {
      "cell_type": "code",
      "source": [
        "my_array.shape"
      ],
      "metadata": {
        "colab": {
          "base_uri": "https://localhost:8080/"
        },
        "id": "aF1ingoZfEH3",
        "outputId": "ab8c5c64-1086-4eef-8a61-03267945475f"
      },
      "execution_count": 346,
      "outputs": [
        {
          "output_type": "execute_result",
          "data": {
            "text/plain": [
              "(6,)"
            ]
          },
          "metadata": {},
          "execution_count": 346
        }
      ]
    },
    {
      "cell_type": "code",
      "source": [
        "my_array.size"
      ],
      "metadata": {
        "colab": {
          "base_uri": "https://localhost:8080/"
        },
        "id": "w1pwu0yDfFib",
        "outputId": "8bccd2e4-b6b9-4ec3-d277-826d2e7b24ca"
      },
      "execution_count": 347,
      "outputs": [
        {
          "output_type": "execute_result",
          "data": {
            "text/plain": [
              "6"
            ]
          },
          "metadata": {},
          "execution_count": 347
        }
      ]
    },
    {
      "cell_type": "code",
      "source": [
        "type(my_array)"
      ],
      "metadata": {
        "colab": {
          "base_uri": "https://localhost:8080/"
        },
        "id": "7edEyle7fHP6",
        "outputId": "3fdb2c94-cbdb-4292-e922-0ffce8e015c9"
      },
      "execution_count": 348,
      "outputs": [
        {
          "output_type": "execute_result",
          "data": {
            "text/plain": [
              "numpy.ndarray"
            ]
          },
          "metadata": {},
          "execution_count": 348
        }
      ]
    },
    {
      "cell_type": "code",
      "source": [
        "type(my_array[-1])"
      ],
      "metadata": {
        "colab": {
          "base_uri": "https://localhost:8080/"
        },
        "id": "ZsrdTVFufJFl",
        "outputId": "8923858c-7f38-4b40-b2f4-57ed185e3b41"
      },
      "execution_count": 349,
      "outputs": [
        {
          "output_type": "execute_result",
          "data": {
            "text/plain": [
              "numpy.int64"
            ]
          },
          "metadata": {},
          "execution_count": 349
        }
      ]
    },
    {
      "cell_type": "code",
      "source": [
        "prime_array = np.array([2,3,5,7,11,13,17,19,23,29,31], dtype=\"str\")\n",
        "print(prime_array)"
      ],
      "metadata": {
        "colab": {
          "base_uri": "https://localhost:8080/"
        },
        "id": "CxIltyTMfK9I",
        "outputId": "91d408d3-3521-41dd-cd32-3556223b8f35"
      },
      "execution_count": 350,
      "outputs": [
        {
          "output_type": "stream",
          "name": "stdout",
          "text": [
            "['2' '3' '5' '7' '11' '13' '17' '19' '23' '29' '31']\n"
          ]
        }
      ]
    },
    {
      "cell_type": "code",
      "source": [
        "type(prime_array)"
      ],
      "metadata": {
        "colab": {
          "base_uri": "https://localhost:8080/"
        },
        "id": "cMN254OofMwF",
        "outputId": "5d786fae-7bff-4e0c-db7a-54c8e5d77b67"
      },
      "execution_count": 351,
      "outputs": [
        {
          "output_type": "execute_result",
          "data": {
            "text/plain": [
              "numpy.ndarray"
            ]
          },
          "metadata": {},
          "execution_count": 351
        }
      ]
    },
    {
      "cell_type": "code",
      "source": [
        "type(prime_array[-1])"
      ],
      "metadata": {
        "colab": {
          "base_uri": "https://localhost:8080/"
        },
        "id": "07HgkoU6fOrD",
        "outputId": "711c4b7e-6dc6-450d-c016-a25b476dc338"
      },
      "execution_count": 352,
      "outputs": [
        {
          "output_type": "execute_result",
          "data": {
            "text/plain": [
              "numpy.str_"
            ]
          },
          "metadata": {},
          "execution_count": 352
        }
      ]
    },
    {
      "cell_type": "code",
      "source": [
        "another_array = np.array([[1,2,3],[4,5,6],[7,8,9]])\n",
        "print(another_array)"
      ],
      "metadata": {
        "colab": {
          "base_uri": "https://localhost:8080/"
        },
        "id": "plIkU2sufQZm",
        "outputId": "84faa348-8698-4dcd-f1db-f364ee528529"
      },
      "execution_count": 353,
      "outputs": [
        {
          "output_type": "stream",
          "name": "stdout",
          "text": [
            "[[1 2 3]\n",
            " [4 5 6]\n",
            " [7 8 9]]\n"
          ]
        }
      ]
    },
    {
      "cell_type": "code",
      "source": [
        "list_of_list = [[1,2],[3,4]]\n",
        "list_of_list[1][1]"
      ],
      "metadata": {
        "colab": {
          "base_uri": "https://localhost:8080/"
        },
        "id": "lPKLSz97fSfb",
        "outputId": "3d99b14d-3878-4756-9832-63a10068506a"
      },
      "execution_count": 354,
      "outputs": [
        {
          "output_type": "execute_result",
          "data": {
            "text/plain": [
              "4"
            ]
          },
          "metadata": {},
          "execution_count": 354
        }
      ]
    },
    {
      "cell_type": "code",
      "source": [
        "import sklearn as skl"
      ],
      "metadata": {
        "id": "WScMNfc0fVFG"
      },
      "execution_count": 355,
      "outputs": []
    },
    {
      "cell_type": "code",
      "source": [
        "import sklearn.datasets as skd\n",
        "skd"
      ],
      "metadata": {
        "colab": {
          "base_uri": "https://localhost:8080/"
        },
        "id": "2P4afzmYfWmU",
        "outputId": "b34daeb0-1d82-4396-8bee-401ba6c4be4f"
      },
      "execution_count": 356,
      "outputs": [
        {
          "output_type": "execute_result",
          "data": {
            "text/plain": [
              "<module 'sklearn.datasets' from '/usr/local/lib/python3.11/dist-packages/sklearn/datasets/__init__.py'>"
            ]
          },
          "metadata": {},
          "execution_count": 356
        }
      ]
    },
    {
      "cell_type": "code",
      "source": [
        "skd.load_wine()"
      ],
      "metadata": {
        "colab": {
          "base_uri": "https://localhost:8080/"
        },
        "id": "VQ9j7m5OfYIb",
        "outputId": "038789c1-9894-47b5-d993-1bc54dc636cb"
      },
      "execution_count": 357,
      "outputs": [
        {
          "output_type": "execute_result",
          "data": {
            "text/plain": [
              "{'data': array([[1.423e+01, 1.710e+00, 2.430e+00, ..., 1.040e+00, 3.920e+00,\n",
              "         1.065e+03],\n",
              "        [1.320e+01, 1.780e+00, 2.140e+00, ..., 1.050e+00, 3.400e+00,\n",
              "         1.050e+03],\n",
              "        [1.316e+01, 2.360e+00, 2.670e+00, ..., 1.030e+00, 3.170e+00,\n",
              "         1.185e+03],\n",
              "        ...,\n",
              "        [1.327e+01, 4.280e+00, 2.260e+00, ..., 5.900e-01, 1.560e+00,\n",
              "         8.350e+02],\n",
              "        [1.317e+01, 2.590e+00, 2.370e+00, ..., 6.000e-01, 1.620e+00,\n",
              "         8.400e+02],\n",
              "        [1.413e+01, 4.100e+00, 2.740e+00, ..., 6.100e-01, 1.600e+00,\n",
              "         5.600e+02]]),\n",
              " 'target': array([0, 0, 0, 0, 0, 0, 0, 0, 0, 0, 0, 0, 0, 0, 0, 0, 0, 0, 0, 0, 0, 0,\n",
              "        0, 0, 0, 0, 0, 0, 0, 0, 0, 0, 0, 0, 0, 0, 0, 0, 0, 0, 0, 0, 0, 0,\n",
              "        0, 0, 0, 0, 0, 0, 0, 0, 0, 0, 0, 0, 0, 0, 0, 1, 1, 1, 1, 1, 1, 1,\n",
              "        1, 1, 1, 1, 1, 1, 1, 1, 1, 1, 1, 1, 1, 1, 1, 1, 1, 1, 1, 1, 1, 1,\n",
              "        1, 1, 1, 1, 1, 1, 1, 1, 1, 1, 1, 1, 1, 1, 1, 1, 1, 1, 1, 1, 1, 1,\n",
              "        1, 1, 1, 1, 1, 1, 1, 1, 1, 1, 1, 1, 1, 1, 1, 1, 1, 1, 1, 1, 2, 2,\n",
              "        2, 2, 2, 2, 2, 2, 2, 2, 2, 2, 2, 2, 2, 2, 2, 2, 2, 2, 2, 2, 2, 2,\n",
              "        2, 2, 2, 2, 2, 2, 2, 2, 2, 2, 2, 2, 2, 2, 2, 2, 2, 2, 2, 2, 2, 2,\n",
              "        2, 2]),\n",
              " 'frame': None,\n",
              " 'target_names': array(['class_0', 'class_1', 'class_2'], dtype='<U7'),\n",
              " 'DESCR': '.. _wine_dataset:\\n\\nWine recognition dataset\\n------------------------\\n\\n**Data Set Characteristics:**\\n\\n:Number of Instances: 178\\n:Number of Attributes: 13 numeric, predictive attributes and the class\\n:Attribute Information:\\n    - Alcohol\\n    - Malic acid\\n    - Ash\\n    - Alcalinity of ash\\n    - Magnesium\\n    - Total phenols\\n    - Flavanoids\\n    - Nonflavanoid phenols\\n    - Proanthocyanins\\n    - Color intensity\\n    - Hue\\n    - OD280/OD315 of diluted wines\\n    - Proline\\n    - class:\\n        - class_0\\n        - class_1\\n        - class_2\\n\\n:Summary Statistics:\\n\\n============================= ==== ===== ======= =====\\n                                Min   Max   Mean     SD\\n============================= ==== ===== ======= =====\\nAlcohol:                      11.0  14.8    13.0   0.8\\nMalic Acid:                   0.74  5.80    2.34  1.12\\nAsh:                          1.36  3.23    2.36  0.27\\nAlcalinity of Ash:            10.6  30.0    19.5   3.3\\nMagnesium:                    70.0 162.0    99.7  14.3\\nTotal Phenols:                0.98  3.88    2.29  0.63\\nFlavanoids:                   0.34  5.08    2.03  1.00\\nNonflavanoid Phenols:         0.13  0.66    0.36  0.12\\nProanthocyanins:              0.41  3.58    1.59  0.57\\nColour Intensity:              1.3  13.0     5.1   2.3\\nHue:                          0.48  1.71    0.96  0.23\\nOD280/OD315 of diluted wines: 1.27  4.00    2.61  0.71\\nProline:                       278  1680     746   315\\n============================= ==== ===== ======= =====\\n\\n:Missing Attribute Values: None\\n:Class Distribution: class_0 (59), class_1 (71), class_2 (48)\\n:Creator: R.A. Fisher\\n:Donor: Michael Marshall (MARSHALL%PLU@io.arc.nasa.gov)\\n:Date: July, 1988\\n\\nThis is a copy of UCI ML Wine recognition datasets.\\nhttps://archive.ics.uci.edu/ml/machine-learning-databases/wine/wine.data\\n\\nThe data is the results of a chemical analysis of wines grown in the same\\nregion in Italy by three different cultivators. There are thirteen different\\nmeasurements taken for different constituents found in the three types of\\nwine.\\n\\nOriginal Owners:\\n\\nForina, M. et al, PARVUS -\\nAn Extendible Package for Data Exploration, Classification and Correlation.\\nInstitute of Pharmaceutical and Food Analysis and Technologies,\\nVia Brigata Salerno, 16147 Genoa, Italy.\\n\\nCitation:\\n\\nLichman, M. (2013). UCI Machine Learning Repository\\n[https://archive.ics.uci.edu/ml]. Irvine, CA: University of California,\\nSchool of Information and Computer Science.\\n\\n.. dropdown:: References\\n\\n    (1) S. Aeberhard, D. Coomans and O. de Vel,\\n    Comparison of Classifiers in High Dimensional Settings,\\n    Tech. Rep. no. 92-02, (1992), Dept. of Computer Science and Dept. of\\n    Mathematics and Statistics, James Cook University of North Queensland.\\n    (Also submitted to Technometrics).\\n\\n    The data was used with many others for comparing various\\n    classifiers. The classes are separable, though only RDA\\n    has achieved 100% correct classification.\\n    (RDA : 100%, QDA 99.4%, LDA 98.9%, 1NN 96.1% (z-transformed data))\\n    (All results using the leave-one-out technique)\\n\\n    (2) S. Aeberhard, D. Coomans and O. de Vel,\\n    \"THE CLASSIFICATION PERFORMANCE OF RDA\"\\n    Tech. Rep. no. 92-01, (1992), Dept. of Computer Science and Dept. of\\n    Mathematics and Statistics, James Cook University of North Queensland.\\n    (Also submitted to Journal of Chemometrics).\\n',\n",
              " 'feature_names': ['alcohol',\n",
              "  'malic_acid',\n",
              "  'ash',\n",
              "  'alcalinity_of_ash',\n",
              "  'magnesium',\n",
              "  'total_phenols',\n",
              "  'flavanoids',\n",
              "  'nonflavanoid_phenols',\n",
              "  'proanthocyanins',\n",
              "  'color_intensity',\n",
              "  'hue',\n",
              "  'od280/od315_of_diluted_wines',\n",
              "  'proline']}"
            ]
          },
          "metadata": {},
          "execution_count": 357
        }
      ]
    },
    {
      "cell_type": "code",
      "source": [
        "oned_array = np.array([1,2,3,4,5,6])\n",
        "oned_array"
      ],
      "metadata": {
        "colab": {
          "base_uri": "https://localhost:8080/"
        },
        "id": "OX-wbT2dfZy8",
        "outputId": "341893d9-9185-4f55-8f40-0cd1f493c6a3"
      },
      "execution_count": 358,
      "outputs": [
        {
          "output_type": "execute_result",
          "data": {
            "text/plain": [
              "array([1, 2, 3, 4, 5, 6])"
            ]
          },
          "metadata": {},
          "execution_count": 358
        }
      ]
    },
    {
      "cell_type": "code",
      "source": [
        "oned_array[5]"
      ],
      "metadata": {
        "colab": {
          "base_uri": "https://localhost:8080/"
        },
        "id": "spC8PcxlfciK",
        "outputId": "c82187aa-8a13-4e85-a3ad-e16ea8c1d7a5"
      },
      "execution_count": 359,
      "outputs": [
        {
          "output_type": "execute_result",
          "data": {
            "text/plain": [
              "6"
            ]
          },
          "metadata": {},
          "execution_count": 359
        }
      ]
    },
    {
      "cell_type": "code",
      "source": [
        "another_array = np.array([[1,2,3],[4,5,6],[7,8,9]])\n",
        "another_array"
      ],
      "metadata": {
        "colab": {
          "base_uri": "https://localhost:8080/"
        },
        "id": "dP-81YPLfevt",
        "outputId": "f11c7e79-f286-4b3a-8fd8-4392a85fd2fb"
      },
      "execution_count": 360,
      "outputs": [
        {
          "output_type": "execute_result",
          "data": {
            "text/plain": [
              "array([[1, 2, 3],\n",
              "       [4, 5, 6],\n",
              "       [7, 8, 9]])"
            ]
          },
          "metadata": {},
          "execution_count": 360
        }
      ]
    },
    {
      "cell_type": "code",
      "source": [
        "another_array[2]"
      ],
      "metadata": {
        "colab": {
          "base_uri": "https://localhost:8080/"
        },
        "id": "bNranv-0fgGo",
        "outputId": "9594e2bc-d7ef-4a64-d0a1-7c8e3e6dc6c1"
      },
      "execution_count": 361,
      "outputs": [
        {
          "output_type": "execute_result",
          "data": {
            "text/plain": [
              "array([7, 8, 9])"
            ]
          },
          "metadata": {},
          "execution_count": 361
        }
      ]
    },
    {
      "cell_type": "code",
      "source": [
        "another_array[1,1]"
      ],
      "metadata": {
        "colab": {
          "base_uri": "https://localhost:8080/"
        },
        "id": "IAFI2rWTfigv",
        "outputId": "1ddb9dc9-b4cf-4213-9c96-e0d01a90defc"
      },
      "execution_count": 362,
      "outputs": [
        {
          "output_type": "execute_result",
          "data": {
            "text/plain": [
              "5"
            ]
          },
          "metadata": {},
          "execution_count": 362
        }
      ]
    },
    {
      "cell_type": "code",
      "source": [
        "twod_array = np.array([[1,2,3,4],[5,6,7,8]])"
      ],
      "metadata": {
        "id": "u9Jdj1TGfkQ0"
      },
      "execution_count": 363,
      "outputs": []
    },
    {
      "cell_type": "code",
      "source": [
        "twod_array.shape"
      ],
      "metadata": {
        "colab": {
          "base_uri": "https://localhost:8080/"
        },
        "id": "Bx-_ziepfllw",
        "outputId": "b5893cda-b884-4e44-93d2-52b98365fbc1"
      },
      "execution_count": 364,
      "outputs": [
        {
          "output_type": "execute_result",
          "data": {
            "text/plain": [
              "(2, 4)"
            ]
          },
          "metadata": {},
          "execution_count": 364
        }
      ]
    },
    {
      "cell_type": "code",
      "source": [
        "type(twod_array)"
      ],
      "metadata": {
        "colab": {
          "base_uri": "https://localhost:8080/"
        },
        "id": "rol2k-XqfnfE",
        "outputId": "71a67169-630a-43e4-a643-46e6c32faa14"
      },
      "execution_count": 365,
      "outputs": [
        {
          "output_type": "execute_result",
          "data": {
            "text/plain": [
              "numpy.ndarray"
            ]
          },
          "metadata": {},
          "execution_count": 365
        }
      ]
    },
    {
      "cell_type": "code",
      "source": [
        "import numpy as np\n",
        "import matplotlib.pyplot as plt"
      ],
      "metadata": {
        "id": "0x-Ss68wfpSd"
      },
      "execution_count": 366,
      "outputs": []
    },
    {
      "cell_type": "code",
      "source": [
        "height = 100\n",
        "width = 100"
      ],
      "metadata": {
        "id": "94FhVoDvfqoD"
      },
      "execution_count": 367,
      "outputs": []
    },
    {
      "cell_type": "code",
      "source": [
        "random_image = np.random.randint(0,256, (height, width, 3), dtype = np.uint8)"
      ],
      "metadata": {
        "id": "ddjOyXejfsLE"
      },
      "execution_count": 368,
      "outputs": []
    },
    {
      "cell_type": "code",
      "source": [
        "print(\"Matrix representing the image:\")\n",
        "print(random_image)"
      ],
      "metadata": {
        "colab": {
          "base_uri": "https://localhost:8080/"
        },
        "id": "tUhU5IW1fuAS",
        "outputId": "669a9c47-5b5c-4eb9-eeb9-1a38c0141961"
      },
      "execution_count": 369,
      "outputs": [
        {
          "output_type": "stream",
          "name": "stdout",
          "text": [
            "Matrix representing the image:\n",
            "[[[107 203  16]\n",
            "  [114 167 114]\n",
            "  [  0  29 143]\n",
            "  ...\n",
            "  [ 82 175  43]\n",
            "  [ 72  25 123]\n",
            "  [ 50  54  25]]\n",
            "\n",
            " [[197 239 247]\n",
            "  [ 63  41 120]\n",
            "  [126 108 179]\n",
            "  ...\n",
            "  [133 112 110]\n",
            "  [ 82  95 104]\n",
            "  [  5 224 119]]\n",
            "\n",
            " [[ 25 185 200]\n",
            "  [167  56  86]\n",
            "  [ 51 161 208]\n",
            "  ...\n",
            "  [ 96  31   3]\n",
            "  [ 92 160  63]\n",
            "  [ 55  56 141]]\n",
            "\n",
            " ...\n",
            "\n",
            " [[ 65 250  52]\n",
            "  [ 26 147  72]\n",
            "  [ 96 246 227]\n",
            "  ...\n",
            "  [227  65  20]\n",
            "  [115 247  84]\n",
            "  [ 53 248  75]]\n",
            "\n",
            " [[240 142 140]\n",
            "  [ 94 112  43]\n",
            "  [248 189 154]\n",
            "  ...\n",
            "  [137 209 169]\n",
            "  [120  27 152]\n",
            "  [ 84 236 114]]\n",
            "\n",
            " [[101 102 104]\n",
            "  [185  31  95]\n",
            "  [200 205  83]\n",
            "  ...\n",
            "  [ 78  43 239]\n",
            "  [  5 133 254]\n",
            "  [173 197  57]]]\n"
          ]
        }
      ]
    },
    {
      "cell_type": "code",
      "source": [
        "plt.imshow(random_image)\n",
        "plt.title('Random Colored Image')\n",
        "plt.axis('off')\n",
        "plt.show()"
      ],
      "metadata": {
        "colab": {
          "base_uri": "https://localhost:8080/",
          "height": 428
        },
        "id": "mtAAnJN3fvZ1",
        "outputId": "801221e8-53be-4f5d-e51d-2ecd08fc3361"
      },
      "execution_count": 370,
      "outputs": [
        {
          "output_type": "display_data",
          "data": {
            "text/plain": [
              "<Figure size 640x480 with 1 Axes>"
            ],
            "image/png": "[encoded data removed]"
          },
          "metadata": {}
        }
      ]
    },
    {
      "cell_type": "code",
      "source": [
        "plt.imshow(random_image[:2,3,:4])"
      ],
      "metadata": {
        "colab": {
          "base_uri": "https://localhost:8080/",
          "height": 414
        },
        "id": "gb0arJxKfxZD",
        "outputId": "36c7c3f1-a12b-42b0-f383-9fdaa33441e8"
      },
      "execution_count": 371,
      "outputs": [
        {
          "output_type": "execute_result",
          "data": {
            "text/plain": [
              "<matplotlib.image.AxesImage at 0x7fe384e8fad0>"
            ]
          },
          "metadata": {},
          "execution_count": 371
        },
        {
          "output_type": "display_data",
          "data": {
            "text/plain": [
              "<Figure size 640x480 with 1 Axes>"
            ],
            "image/png": "[encoded data removed]"
          },
          "metadata": {}
        }
      ]
    },
    {
      "cell_type": "code",
      "source": [
        "threed_array = np.array([[[1,2,3],[4,5,6]],[[7,8,9],[10,11,12]]])\n",
        "print(threed_array)\n",
        "print(threed_array.shape)"
      ],
      "metadata": {
        "colab": {
          "base_uri": "https://localhost:8080/"
        },
        "id": "nVyQmR5efzNf",
        "outputId": "85e3bcd8-bf15-497c-c37b-8040147a42f0"
      },
      "execution_count": 372,
      "outputs": [
        {
          "output_type": "stream",
          "name": "stdout",
          "text": [
            "[[[ 1  2  3]\n",
            "  [ 4  5  6]]\n",
            "\n",
            " [[ 7  8  9]\n",
            "  [10 11 12]]]\n",
            "(2, 2, 3)\n"
          ]
        }
      ]
    },
    {
      "cell_type": "code",
      "source": [
        "matrix = np.random.randint(0,1,(50,50), dtype=np.uint8)\n",
        "matrix"
      ],
      "metadata": {
        "colab": {
          "base_uri": "https://localhost:8080/",
          "height": 90
        },
        "id": "64OdAHEsf0vN",
        "outputId": "b07e196c-bf60-47cf-d495-69ae5b43bccf"
      },
      "execution_count": 373,
      "outputs": [
        {
          "output_type": "execute_result",
          "data": {
            "text/plain": [
              "array([[0, 0, 0, ..., 0, 0, 0],\n",
              "       [0, 0, 0, ..., 0, 0, 0],\n",
              "       [0, 0, 0, ..., 0, 0, 0],\n",
              "       ...,\n",
              "       [0, 0, 0, ..., 0, 0, 0],\n",
              "       [0, 0, 0, ..., 0, 0, 0],\n",
              "       [0, 0, 0, ..., 0, 0, 0]], dtype=uint8)"
            ],
            "text/html": [
              "<style>\n",
              "      .ndarray_repr .ndarray_raw_data {\n",
              "        display: none;\n",
              "      }\n",
              "      .ndarray_repr.show_array .ndarray_raw_data {\n",
              "        display: block;\n",
              "      }\n",
              "      .ndarray_repr.show_array .ndarray_image_preview {\n",
              "        display: none;\n",
              "      }\n",
              "      </style>\n",
              "      <div id=\"id-a61ea8f0-3f6f-41b5-8245-d40d7ff59df2\" class=\"ndarray_repr\"><pre>ndarray (50, 50) <button style=\"padding: 0 2px;\">show data</button></pre><img src=\"data:image/png;base64,iVBORw0KGgoAAAANSUhEUgAAADIAAAAyCAAAAAA7VNdtAAAAGUlEQVR4nO3BAQ0AAADCoPdPbQ8HFAAA/wYJ9gAByjRWDQAAAABJRU5ErkJggg==\" class=\"ndarray_image_preview\" /><pre class=\"ndarray_raw_data\">array([[0, 0, 0, ..., 0, 0, 0],\n",
              "       [0, 0, 0, ..., 0, 0, 0],\n",
              "       [0, 0, 0, ..., 0, 0, 0],\n",
              "       ...,\n",
              "       [0, 0, 0, ..., 0, 0, 0],\n",
              "       [0, 0, 0, ..., 0, 0, 0],\n",
              "       [0, 0, 0, ..., 0, 0, 0]], dtype=uint8)</pre></div><script>\n",
              "      (() => {\n",
              "      const titles = ['show data', 'hide data'];\n",
              "      let index = 0\n",
              "      document.querySelector('#id-a61ea8f0-3f6f-41b5-8245-d40d7ff59df2 button').onclick = (e) => {\n",
              "        document.querySelector('#id-a61ea8f0-3f6f-41b5-8245-d40d7ff59df2').classList.toggle('show_array');\n",
              "        index = (++index) % 2;\n",
              "        document.querySelector('#id-a61ea8f0-3f6f-41b5-8245-d40d7ff59df2 button').textContent = titles[index];\n",
              "        e.preventDefault();\n",
              "        e.stopPropagation();\n",
              "      }\n",
              "      })();\n",
              "    </script>"
            ]
          },
          "metadata": {},
          "execution_count": 373
        }
      ]
    },
    {
      "cell_type": "code",
      "source": [
        "plt.imshow(matrix[:,] )\n",
        "plt.axis('off')\n",
        "plt.show()"
      ],
      "metadata": {
        "colab": {
          "base_uri": "https://localhost:8080/",
          "height": 406
        },
        "id": "iM9EjWejf2MV",
        "outputId": "b075702f-1101-41e1-82ce-06031557cf00"
      },
      "execution_count": 374,
      "outputs": [
        {
          "output_type": "display_data",
          "data": {
            "text/plain": [
              "<Figure size 640x480 with 1 Axes>"
            ],
            "image/png": "[encoded data removed]"
          },
          "metadata": {}
        }
      ]
    },
    {
      "cell_type": "code",
      "source": [
        "matrix.shape"
      ],
      "metadata": {
        "colab": {
          "base_uri": "https://localhost:8080/"
        },
        "id": "Gt5aavSmf3qm",
        "outputId": "e3b9bf25-5513-469c-b886-ca08d5b62332"
      },
      "execution_count": 375,
      "outputs": [
        {
          "output_type": "execute_result",
          "data": {
            "text/plain": [
              "(50, 50)"
            ]
          },
          "metadata": {},
          "execution_count": 375
        }
      ]
    },
    {
      "cell_type": "code",
      "source": [
        "import numpy as np\n",
        "import matplotlib.pyplot as plt"
      ],
      "metadata": {
        "id": "G9rgRt8tf5Dq"
      },
      "execution_count": 376,
      "outputs": []
    },
    {
      "cell_type": "code",
      "source": [
        "height=100\n",
        "width=100"
      ],
      "metadata": {
        "id": "bCSHP7kRf6Ti"
      },
      "execution_count": 377,
      "outputs": []
    },
    {
      "cell_type": "code",
      "source": [
        "black_image = np.random.binomial(2,0.5,(height,width))"
      ],
      "metadata": {
        "id": "zwCDZh1ff7ho"
      },
      "execution_count": 378,
      "outputs": []
    },
    {
      "cell_type": "code",
      "source": [
        "plt.imshow(black_image, cmap='gray')\n",
        "plt.axis('off')\n",
        "plt.show()"
      ],
      "metadata": {
        "colab": {
          "base_uri": "https://localhost:8080/",
          "height": 406
        },
        "id": "3aH27f7Yf81y",
        "outputId": "c39fcfc7-daa9-423a-dfcd-f0dce80111de"
      },
      "execution_count": 379,
      "outputs": [
        {
          "output_type": "display_data",
          "data": {
            "text/plain": [
              "<Figure size 640x480 with 1 Axes>"
            ],
            "image/png": "[encoded data removed]"
          },
          "metadata": {}
        }
      ]
    },
    {
      "cell_type": "code",
      "source": [
        "height = 20\n",
        "width = 20\n"
      ],
      "metadata": {
        "id": "68QbhxYNgBdv"
      },
      "execution_count": 381,
      "outputs": []
    },
    {
      "cell_type": "code",
      "source": [
        "matrix = np.random.randint(250,255,(height, width), dtype=np.uint8)"
      ],
      "metadata": {
        "id": "z07a78-vgEYw"
      },
      "execution_count": 382,
      "outputs": []
    },
    {
      "cell_type": "code",
      "source": [
        "plt.imshow(matrix[:,])\n",
        "plt.axis('off')"
      ],
      "metadata": {
        "colab": {
          "base_uri": "https://localhost:8080/",
          "height": 424
        },
        "id": "0Z4MT_eogFv4",
        "outputId": "9e50f776-f519-495b-e579-0cb800de9e38"
      },
      "execution_count": 383,
      "outputs": [
        {
          "output_type": "execute_result",
          "data": {
            "text/plain": [
              "(-0.5, 19.5, 19.5, -0.5)"
            ]
          },
          "metadata": {},
          "execution_count": 383
        },
        {
          "output_type": "display_data",
          "data": {
            "text/plain": [
              "<Figure size 640x480 with 1 Axes>"
            ],
            "image/png": "[encoded data removed]"
          },
          "metadata": {}
        }
      ]
    },
    {
      "cell_type": "code",
      "source": [
        "matrix"
      ],
      "metadata": {
        "colab": {
          "base_uri": "https://localhost:8080/",
          "height": 60
        },
        "id": "b8eWZSmJgHFe",
        "outputId": "ca7d11a0-bfd6-4676-93d6-be220c3ed498"
      },
      "execution_count": 384,
      "outputs": [
        {
          "output_type": "execute_result",
          "data": {
            "text/plain": [
              "array([[250, 250, 252, 251, 254, 251, 251, 254, 252, 250, 250, 253, 251,\n",
              "        254, 252, 250, 254, 253, 252, 252],\n",
              "       [252, 250, 250, 251, 254, 251, 252, 251, 251, 252, 252, 253, 253,\n",
              "        251, 254, 253, 251, 254, 252, 253],\n",
              "       [251, 252, 252, 253, 254, 252, 254, 251, 250, 250, 250, 250, 251,\n",
              "        254, 252, 252, 254, 250, 250, 251],\n",
              "       [250, 253, 250, 253, 251, 253, 252, 252, 250, 254, 254, 253, 252,\n",
              "        250, 250, 252, 254, 254, 250, 254],\n",
              "       [250, 253, 253, 251, 250, 254, 251, 251, 251, 250, 253, 254, 250,\n",
              "        251, 254, 254, 252, 254, 253, 250],\n",
              "       [253, 252, 251, 252, 253, 251, 254, 253, 252, 254, 253, 252, 251,\n",
              "        251, 250, 253, 252, 251, 250, 254],\n",
              "       [254, 252, 252, 251, 253, 250, 253, 254, 253, 250, 253, 254, 250,\n",
              "        253, 254, 252, 250, 251, 253, 252],\n",
              "       [253, 253, 252, 251, 253, 253, 253, 253, 252, 254, 252, 253, 252,\n",
              "        254, 250, 252, 252, 254, 251, 251],\n",
              "       [252, 254, 252, 252, 254, 250, 250, 254, 252, 250, 250, 251, 250,\n",
              "        252, 251, 253, 252, 251, 253, 252],\n",
              "       [250, 250, 252, 253, 250, 250, 254, 251, 253, 252, 250, 254, 253,\n",
              "        251, 251, 251, 251, 251, 251, 250],\n",
              "       [253, 250, 250, 252, 253, 253, 253, 250, 251, 252, 253, 252, 253,\n",
              "        251, 251, 251, 254, 252, 254, 250],\n",
              "       [251, 253, 250, 252, 254, 254, 250, 251, 254, 250, 253, 252, 250,\n",
              "        253, 254, 254, 253, 250, 253, 254],\n",
              "       [252, 254, 254, 254, 253, 250, 251, 253, 250, 253, 251, 253, 250,\n",
              "        254, 251, 250, 252, 252, 252, 250],\n",
              "       [252, 250, 252, 251, 252, 251, 252, 251, 250, 250, 254, 251, 253,\n",
              "        252, 250, 253, 250, 254, 251, 251],\n",
              "       [253, 254, 252, 250, 254, 251, 250, 250, 254, 254, 251, 253, 254,\n",
              "        253, 254, 251, 250, 251, 251, 252],\n",
              "       [251, 254, 252, 251, 252, 250, 252, 254, 254, 250, 254, 254, 250,\n",
              "        254, 253, 252, 254, 253, 253, 252],\n",
              "       [251, 253, 251, 252, 250, 254, 251, 254, 251, 250, 253, 252, 250,\n",
              "        251, 251, 250, 250, 253, 252, 252],\n",
              "       [251, 254, 250, 252, 252, 254, 252, 254, 250, 252, 252, 253, 250,\n",
              "        254, 253, 251, 254, 254, 251, 252],\n",
              "       [254, 253, 254, 253, 254, 250, 252, 250, 250, 251, 251, 254, 251,\n",
              "        253, 252, 251, 253, 252, 252, 253],\n",
              "       [254, 254, 252, 251, 250, 254, 253, 254, 254, 254, 254, 250, 253,\n",
              "        250, 253, 252, 252, 252, 250, 252]], dtype=uint8)"
            ],
            "text/html": [
              "<style>\n",
              "      .ndarray_repr .ndarray_raw_data {\n",
              "        display: none;\n",
              "      }\n",
              "      .ndarray_repr.show_array .ndarray_raw_data {\n",
              "        display: block;\n",
              "      }\n",
              "      .ndarray_repr.show_array .ndarray_image_preview {\n",
              "        display: none;\n",
              "      }\n",
              "      </style>\n",
              "      <div id=\"id-7899c619-cae5-4781-86d8-9d953e2a0bf7\" class=\"ndarray_repr\"><pre>ndarray (20, 20) <button style=\"padding: 0 2px;\">show data</button></pre><img src=\"data:image/png;base64,iVBORw0KGgoAAAANSUhEUgAAABQAAAAUCAAAAACo4kLRAAAAvElEQVR4nCXPwREDQQwCwQEp/4CvVuCHO4PWhzvHJEwm2RabALra+DwntDVCvhY0YR5yFU4Ru6MXWMYwqVq9KlqHebpWyrRuS6ftWqi00sP1Nkx0tAbqqH7Gx9aVHtuHitRz9WEde262AaAe0pk2TABGgzMgnSZwnmm6Ky09+U383/bMy1UKN5l04kqnZK8sZ1VXIQeUenmjp2ptllbZ42g5milGxYi6YqxVUarqOYg5ty5SSLsV8OamEP8AMyaiKwjgB3sAAAAASUVORK5CYII=\" class=\"ndarray_image_preview\" /><pre class=\"ndarray_raw_data\">array([[250, 250, 252, 251, 254, 251, 251, 254, 252, 250, 250, 253, 251,\n",
              "        254, 252, 250, 254, 253, 252, 252],\n",
              "       [252, 250, 250, 251, 254, 251, 252, 251, 251, 252, 252, 253, 253,\n",
              "        251, 254, 253, 251, 254, 252, 253],\n",
              "       [251, 252, 252, 253, 254, 252, 254, 251, 250, 250, 250, 250, 251,\n",
              "        254, 252, 252, 254, 250, 250, 251],\n",
              "       [250, 253, 250, 253, 251, 253, 252, 252, 250, 254, 254, 253, 252,\n",
              "        250, 250, 252, 254, 254, 250, 254],\n",
              "       [250, 253, 253, 251, 250, 254, 251, 251, 251, 250, 253, 254, 250,\n",
              "        251, 254, 254, 252, 254, 253, 250],\n",
              "       [253, 252, 251, 252, 253, 251, 254, 253, 252, 254, 253, 252, 251,\n",
              "        251, 250, 253, 252, 251, 250, 254],\n",
              "       [254, 252, 252, 251, 253, 250, 253, 254, 253, 250, 253, 254, 250,\n",
              "        253, 254, 252, 250, 251, 253, 252],\n",
              "       [253, 253, 252, 251, 253, 253, 253, 253, 252, 254, 252, 253, 252,\n",
              "        254, 250, 252, 252, 254, 251, 251],\n",
              "       [252, 254, 252, 252, 254, 250, 250, 254, 252, 250, 250, 251, 250,\n",
              "        252, 251, 253, 252, 251, 253, 252],\n",
              "       [250, 250, 252, 253, 250, 250, 254, 251, 253, 252, 250, 254, 253,\n",
              "        251, 251, 251, 251, 251, 251, 250],\n",
              "       [253, 250, 250, 252, 253, 253, 253, 250, 251, 252, 253, 252, 253,\n",
              "        251, 251, 251, 254, 252, 254, 250],\n",
              "       [251, 253, 250, 252, 254, 254, 250, 251, 254, 250, 253, 252, 250,\n",
              "        253, 254, 254, 253, 250, 253, 254],\n",
              "       [252, 254, 254, 254, 253, 250, 251, 253, 250, 253, 251, 253, 250,\n",
              "        254, 251, 250, 252, 252, 252, 250],\n",
              "       [252, 250, 252, 251, 252, 251, 252, 251, 250, 250, 254, 251, 253,\n",
              "        252, 250, 253, 250, 254, 251, 251],\n",
              "       [253, 254, 252, 250, 254, 251, 250, 250, 254, 254, 251, 253, 254,\n",
              "        253, 254, 251, 250, 251, 251, 252],\n",
              "       [251, 254, 252, 251, 252, 250, 252, 254, 254, 250, 254, 254, 250,\n",
              "        254, 253, 252, 254, 253, 253, 252],\n",
              "       [251, 253, 251, 252, 250, 254, 251, 254, 251, 250, 253, 252, 250,\n",
              "        251, 251, 250, 250, 253, 252, 252],\n",
              "       [251, 254, 250, 252, 252, 254, 252, 254, 250, 252, 252, 253, 250,\n",
              "        254, 253, 251, 254, 254, 251, 252],\n",
              "       [254, 253, 254, 253, 254, 250, 252, 250, 250, 251, 251, 254, 251,\n",
              "        253, 252, 251, 253, 252, 252, 253],\n",
              "       [254, 254, 252, 251, 250, 254, 253, 254, 254, 254, 254, 250, 253,\n",
              "        250, 253, 252, 252, 252, 250, 252]], dtype=uint8)</pre></div><script>\n",
              "      (() => {\n",
              "      const titles = ['show data', 'hide data'];\n",
              "      let index = 0\n",
              "      document.querySelector('#id-7899c619-cae5-4781-86d8-9d953e2a0bf7 button').onclick = (e) => {\n",
              "        document.querySelector('#id-7899c619-cae5-4781-86d8-9d953e2a0bf7').classList.toggle('show_array');\n",
              "        index = (++index) % 2;\n",
              "        document.querySelector('#id-7899c619-cae5-4781-86d8-9d953e2a0bf7 button').textContent = titles[index];\n",
              "        e.preventDefault();\n",
              "        e.stopPropagation();\n",
              "      }\n",
              "      })();\n",
              "    </script>"
            ]
          },
          "metadata": {},
          "execution_count": 384
        }
      ]
    },
    {
      "cell_type": "code",
      "source": [
        "matrix.shape"
      ],
      "metadata": {
        "colab": {
          "base_uri": "https://localhost:8080/"
        },
        "id": "V0ZWXYxjgJK_",
        "outputId": "36910016-d1fc-405a-921a-3e06122abe1d"
      },
      "execution_count": 385,
      "outputs": [
        {
          "output_type": "execute_result",
          "data": {
            "text/plain": [
              "(20, 20)"
            ]
          },
          "metadata": {},
          "execution_count": 385
        }
      ]
    },
    {
      "cell_type": "code",
      "source": [
        "matrix.size"
      ],
      "metadata": {
        "colab": {
          "base_uri": "https://localhost:8080/"
        },
        "id": "1y0CDKYpgKnr",
        "outputId": "2182a05a-44a4-4ac6-8ea5-32c4762d43fa"
      },
      "execution_count": 386,
      "outputs": [
        {
          "output_type": "execute_result",
          "data": {
            "text/plain": [
              "400"
            ]
          },
          "metadata": {},
          "execution_count": 386
        }
      ]
    },
    {
      "cell_type": "code",
      "source": [
        "matrix.shape"
      ],
      "metadata": {
        "colab": {
          "base_uri": "https://localhost:8080/"
        },
        "id": "V3FKUR-SgLvW",
        "outputId": "a4970e2b-4223-437d-92e0-6e650c3624a8"
      },
      "execution_count": 387,
      "outputs": [
        {
          "output_type": "execute_result",
          "data": {
            "text/plain": [
              "(20, 20)"
            ]
          },
          "metadata": {},
          "execution_count": 387
        }
      ]
    },
    {
      "cell_type": "code",
      "source": [
        "alma_array = np.array([[1,2,3,4],[5,6,7,8]])\n",
        "print(alma_array.shape)"
      ],
      "metadata": {
        "colab": {
          "base_uri": "https://localhost:8080/"
        },
        "id": "ruMGSF4UgPqx",
        "outputId": "cdb015f7-7cfc-4439-c6dd-da16fb3badfe"
      },
      "execution_count": 388,
      "outputs": [
        {
          "output_type": "stream",
          "name": "stdout",
          "text": [
            "(2, 4)\n"
          ]
        }
      ]
    },
    {
      "cell_type": "code",
      "source": [
        "array_of_integers = np.array([1,2,3,4,5,6,7,8,9])\n",
        "print(\"dimension of 'array_of_integers' = \", array_of_integers.ndim)"
      ],
      "metadata": {
        "colab": {
          "base_uri": "https://localhost:8080/"
        },
        "id": "7axyP-AvgQxO",
        "outputId": "57e0c5ff-0519-458c-88ba-a4fe123976f0"
      },
      "execution_count": 389,
      "outputs": [
        {
          "output_type": "stream",
          "name": "stdout",
          "text": [
            "dimension of 'array_of_integers' =  1\n"
          ]
        }
      ]
    },
    {
      "cell_type": "code",
      "source": [
        "my_list = [1,2,3,4,5,6,'sss']\n",
        "my_list\n",
        ""
      ],
      "metadata": {
        "colab": {
          "base_uri": "https://localhost:8080/"
        },
        "id": "YVAE6yoPgSmk",
        "outputId": "3036c94c-f49b-4f05-9d64-715aafca4db1"
      },
      "execution_count": 390,
      "outputs": [
        {
          "output_type": "execute_result",
          "data": {
            "text/plain": [
              "[1, 2, 3, 4, 5, 6, 'sss']"
            ]
          },
          "metadata": {},
          "execution_count": 390
        }
      ]
    },
    {
      "cell_type": "code",
      "source": [
        "my_array = np.array([0,1,2,3,4,5])\n",
        "print(my_array.dtype)"
      ],
      "metadata": {
        "colab": {
          "base_uri": "https://localhost:8080/"
        },
        "id": "Go0wUY0jgUfm",
        "outputId": "4be8c547-479e-48fb-8584-24ce3c5d3ae3"
      },
      "execution_count": 391,
      "outputs": [
        {
          "output_type": "stream",
          "name": "stdout",
          "text": [
            "int64\n"
          ]
        }
      ]
    },
    {
      "cell_type": "code",
      "source": [
        "my_array = my_array.astype(np.float64)\n",
        "print(my_array)\n",
        "print(my_array.dtype)"
      ],
      "metadata": {
        "colab": {
          "base_uri": "https://localhost:8080/"
        },
        "id": "rV8OwhvBgVrK",
        "outputId": "ef505f3a-4832-4181-ed0c-74fa1d48e207"
      },
      "execution_count": 392,
      "outputs": [
        {
          "output_type": "stream",
          "name": "stdout",
          "text": [
            "[0. 1. 2. 3. 4. 5.]\n",
            "float64\n"
          ]
        }
      ]
    },
    {
      "cell_type": "code",
      "source": [
        "my_array = my_array.astype('string_')\n",
        "print(my_array)\n",
        "print(my_array.dtype)"
      ],
      "metadata": {
        "colab": {
          "base_uri": "https://localhost:8080/"
        },
        "id": "gtzTqYjagXKO",
        "outputId": "2c126337-dc11-4ac9-b8d7-7695cb0fbfbe"
      },
      "execution_count": 393,
      "outputs": [
        {
          "output_type": "stream",
          "name": "stdout",
          "text": [
            "[b'0.0' b'1.0' b'2.0' b'3.0' b'4.0' b'5.0']\n",
            "|S32\n"
          ]
        }
      ]
    },
    {
      "cell_type": "code",
      "source": [
        "import numpy as np\n",
        "import sys"
      ],
      "metadata": {
        "id": "NrLCz3xugY1k"
      },
      "execution_count": 394,
      "outputs": []
    },
    {
      "cell_type": "code",
      "source": [
        "s = [9,8,7,6,5,4,3,2,1]\n",
        "print(\"size of each element of list in bytes: \", sys.getsizeof(s))\n",
        "print(\"size of the whole list in bytes: \", sys.getsizeof(s)*len(s))"
      ],
      "metadata": {
        "colab": {
          "base_uri": "https://localhost:8080/"
        },
        "id": "yzwi_XVvge-R",
        "outputId": "3490050c-2748-4f61-e836-63269a71f3c5"
      },
      "execution_count": 395,
      "outputs": [
        {
          "output_type": "stream",
          "name": "stdout",
          "text": [
            "size of each element of list in bytes:  136\n",
            "size of the whole list in bytes:  1224\n"
          ]
        }
      ]
    },
    {
      "cell_type": "code",
      "source": [
        "d = np.array([9,8,7,6,5,4,3,2,1])\n",
        "print(\"size of each element of the numpy array in bytes: \", d.itemsize)\n",
        "print(\"size of the whole numpy array in bytes: \", d.size*d.itemsize)"
      ],
      "metadata": {
        "colab": {
          "base_uri": "https://localhost:8080/"
        },
        "id": "KRwpyXoEggaG",
        "outputId": "62bd1191-c4fd-43f0-d1ec-a868bed3c74c"
      },
      "execution_count": 396,
      "outputs": [
        {
          "output_type": "stream",
          "name": "stdout",
          "text": [
            "size of each element of the numpy array in bytes:  8\n",
            "size of the whole numpy array in bytes:  72\n"
          ]
        }
      ]
    },
    {
      "cell_type": "code",
      "source": [
        "[(a*b) for a,b in zip([1,2,3],[4,5,6])]"
      ],
      "metadata": {
        "colab": {
          "base_uri": "https://localhost:8080/"
        },
        "id": "WSE93XQDgh4U",
        "outputId": "8f45e3b7-2c68-45bc-8ce7-4be6118e2863"
      },
      "execution_count": 397,
      "outputs": [
        {
          "output_type": "execute_result",
          "data": {
            "text/plain": [
              "[4, 10, 18]"
            ]
          },
          "metadata": {},
          "execution_count": 397
        }
      ]
    },
    {
      "cell_type": "code",
      "source": [
        "import numpy as np\n",
        "import time"
      ],
      "metadata": {
        "id": "ttMLeW3xgjEh"
      },
      "execution_count": 398,
      "outputs": []
    },
    {
      "cell_type": "code",
      "source": [
        "\n",
        "#Size of arrays and lists\n",
        "size = 5000"
      ],
      "metadata": {
        "id": "rhK1WtiYgkPh"
      },
      "execution_count": 399,
      "outputs": []
    },
    {
      "cell_type": "code",
      "source": [
        "list1 = range(size)\n",
        "list2 = range(size)"
      ],
      "metadata": {
        "id": "r5dogDE7glnY"
      },
      "execution_count": 400,
      "outputs": []
    },
    {
      "cell_type": "code",
      "source": [
        "array1 = np.arange(size)\n",
        "array2 = np.arange(size)"
      ],
      "metadata": {
        "id": "B5-eRdlPgnRr"
      },
      "execution_count": 401,
      "outputs": []
    },
    {
      "cell_type": "code",
      "source": [
        "initialTime = time.time()"
      ],
      "metadata": {
        "id": "9BLVVuo_gole"
      },
      "execution_count": 402,
      "outputs": []
    },
    {
      "cell_type": "code",
      "source": [
        "resultantList = [(a*b) for a,b in zip(list1, list2)]"
      ],
      "metadata": {
        "id": "wZO_e4wsgqA-"
      },
      "execution_count": 403,
      "outputs": []
    },
    {
      "cell_type": "code",
      "source": [
        "print(\"time taken by lists to perform multiplication: \",\n",
        " (time.time() - initialTime)*1000,\n",
        " \"seconds\")"
      ],
      "metadata": {
        "colab": {
          "base_uri": "https://localhost:8080/"
        },
        "id": "sFNyoNIZgrzT",
        "outputId": "6c40d94a-02a5-47fa-9f7e-261dfaea36c3"
      },
      "execution_count": 404,
      "outputs": [
        {
          "output_type": "stream",
          "name": "stdout",
          "text": [
            "time taken by lists to perform multiplication:  13523.530006408691 seconds\n"
          ]
        }
      ]
    },
    {
      "cell_type": "code",
      "source": [
        "import time\n",
        "initialTime = time.time()"
      ],
      "metadata": {
        "id": "0g5gO5MtgtUV"
      },
      "execution_count": 405,
      "outputs": []
    },
    {
      "cell_type": "code",
      "source": [
        "resultantArray = array1 * array2"
      ],
      "metadata": {
        "id": "rd_CQ_KDgu4W"
      },
      "execution_count": 406,
      "outputs": []
    },
    {
      "cell_type": "code",
      "source": [
        "print(\"time taken by numpy arrays to perform multiplication\",\n",
        "      (time.time() - initialTime)*1000,\n",
        "      \"seconds\")"
      ],
      "metadata": {
        "colab": {
          "base_uri": "https://localhost:8080/"
        },
        "id": "CaU6TeVtgw0A",
        "outputId": "583a8b1f-b859-4591-cba6-2a1542f75739"
      },
      "execution_count": 407,
      "outputs": [
        {
          "output_type": "stream",
          "name": "stdout",
          "text": [
            "time taken by numpy arrays to perform multiplication 15054.032802581787 seconds\n"
          ]
        }
      ]
    },
    {
      "cell_type": "code",
      "source": [
        "words = ['apple', 'banana', 'cherry', 'date', 'elderberry']"
      ],
      "metadata": {
        "id": "l9JdBj2ggyj6"
      },
      "execution_count": 408,
      "outputs": []
    },
    {
      "cell_type": "code",
      "source": [
        "initialTime = time.time()"
      ],
      "metadata": {
        "id": "tGhhD_bZg0VO"
      },
      "execution_count": 409,
      "outputs": []
    },
    {
      "cell_type": "code",
      "source": [
        "resultantArray = [word for word in words if len(word)>4]"
      ],
      "metadata": {
        "id": "NtE6QpNeg1j0"
      },
      "execution_count": 410,
      "outputs": []
    },
    {
      "cell_type": "code",
      "source": [
        "print(\"time taken by numpy arrays to perform multiplication\",\n",
        "      (time.time() - initialTime)*1000,\n",
        "      \"seconds\")"
      ],
      "metadata": {
        "id": "6iiQgBH-g29J",
        "outputId": "597f5a1d-ecfa-4e48-de2a-30cf862528ec",
        "colab": {
          "base_uri": "https://localhost:8080/"
        }
      },
      "execution_count": 411,
      "outputs": [
        {
          "output_type": "stream",
          "name": "stdout",
          "text": [
            "time taken by numpy arrays to perform multiplication 11424.62158203125 seconds\n"
          ]
        }
      ]
    }
  ]
}