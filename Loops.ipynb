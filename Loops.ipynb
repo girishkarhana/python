{
  "nbformat": 4,
  "nbformat_minor": 0,
  "metadata": {
    "colab": {
      "provenance": [],
      "authorship_tag": "ABX9TyOUAcjwenyMMBs8kvYBkWtW",
      "include_colab_link": true
    },
    "kernelspec": {
      "name": "python3",
      "display_name": "Python 3"
    },
    "language_info": {
      "name": "python"
    }
  },
  "cells": [
    {
      "cell_type": "markdown",
      "metadata": {
        "id": "view-in-github",
        "colab_type": "text"
      },
      "source": [
        "<a href=\"https://colab.research.google.com/github/girishkarhana/python/blob/main/Loops.ipynb\" target=\"_parent\"><img src=\"https://colab.research.google.com/assets/colab-badge.svg\" alt=\"Open In Colab\"/></a>"
      ]
    },
    {
      "cell_type": "code",
      "source": [
        "subjects = ['chmeistry','physics','biology','maths','cs']"
      ],
      "metadata": {
        "id": "2ONkZvdmX4nE"
      },
      "execution_count": 205,
      "outputs": []
    },
    {
      "cell_type": "code",
      "source": [
        "for subjects in subjects:\n",
        "  print(f\"I love {subjects}\")"
      ],
      "metadata": {
        "colab": {
          "base_uri": "https://localhost:8080/"
        },
        "id": "PGGtq1v-X7SY",
        "outputId": "fc081ffe-45e5-4134-9f30-ce15c9dc27c6"
      },
      "execution_count": 206,
      "outputs": [
        {
          "output_type": "stream",
          "name": "stdout",
          "text": [
            "I love chmeistry\n",
            "I love physics\n",
            "I love biology\n",
            "I love maths\n",
            "I love cs\n"
          ]
        }
      ]
    },
    {
      "cell_type": "code",
      "source": [
        "subjects = ['chmeistry','physics','biology','maths','cs']"
      ],
      "metadata": {
        "id": "Waz06pRJX8xA"
      },
      "execution_count": 207,
      "outputs": []
    },
    {
      "cell_type": "code",
      "source": [
        "for number,subjects in enumerate(subjects):\n",
        "  print(f\"the subject number of subject {subjects} is {number}\")"
      ],
      "metadata": {
        "colab": {
          "base_uri": "https://localhost:8080/"
        },
        "id": "9Z5uC7nnX-lA",
        "outputId": "a8ad630f-713c-4511-dd3c-41ebf42444fd"
      },
      "execution_count": 208,
      "outputs": [
        {
          "output_type": "stream",
          "name": "stdout",
          "text": [
            "the subject number of subject chmeistry is 0\n",
            "the subject number of subject physics is 1\n",
            "the subject number of subject biology is 2\n",
            "the subject number of subject maths is 3\n",
            "the subject number of subject cs is 4\n"
          ]
        }
      ]
    },
    {
      "cell_type": "code",
      "source": [
        "subjects = ['chmeistry','physics','biology','maths','cs']\n",
        "list(enumerate(subjects))"
      ],
      "metadata": {
        "colab": {
          "base_uri": "https://localhost:8080/"
        },
        "id": "nKryU4-mYAFP",
        "outputId": "7e14379c-40ee-46d4-8e0f-563f6a5df2e2"
      },
      "execution_count": 209,
      "outputs": [
        {
          "output_type": "execute_result",
          "data": {
            "text/plain": [
              "[(0, 'chmeistry'), (1, 'physics'), (2, 'biology'), (3, 'maths'), (4, 'cs')]"
            ]
          },
          "metadata": {},
          "execution_count": 209
        }
      ]
    },
    {
      "cell_type": "code",
      "source": [
        "list_of_numbers = [1,2,3,4,5,6]"
      ],
      "metadata": {
        "id": "7mFh6EjKYCyy"
      },
      "execution_count": 210,
      "outputs": []
    },
    {
      "cell_type": "code",
      "source": [
        "for number in list_of_numbers:\n",
        "  print(f\"the square of {number} is {number**2}\")"
      ],
      "metadata": {
        "colab": {
          "base_uri": "https://localhost:8080/"
        },
        "id": "uMhBnkekYEhq",
        "outputId": "b86ace14-e601-4ecd-d943-81e9d9f3d8f4"
      },
      "execution_count": 211,
      "outputs": [
        {
          "output_type": "stream",
          "name": "stdout",
          "text": [
            "the square of 1 is 1\n",
            "the square of 2 is 4\n",
            "the square of 3 is 9\n",
            "the square of 4 is 16\n",
            "the square of 5 is 25\n",
            "the square of 6 is 36\n"
          ]
        }
      ]
    },
    {
      "cell_type": "code",
      "source": [
        "squared_numbers = []\n",
        "for number in list_of_numbers:\n",
        "  square = number**2\n",
        "\n",
        "  squared_numbers.append(square)\n",
        "  print(f\"the list of squared numbers is {squared_numbers}\")"
      ],
      "metadata": {
        "colab": {
          "base_uri": "https://localhost:8080/"
        },
        "id": "wMCli42PYGTD",
        "outputId": "3b267068-efe9-421c-a343-ce1238455b6b"
      },
      "execution_count": 212,
      "outputs": [
        {
          "output_type": "stream",
          "name": "stdout",
          "text": [
            "the list of squared numbers is [1]\n",
            "the list of squared numbers is [1, 4]\n",
            "the list of squared numbers is [1, 4, 9]\n",
            "the list of squared numbers is [1, 4, 9, 16]\n",
            "the list of squared numbers is [1, 4, 9, 16, 25]\n",
            "the list of squared numbers is [1, 4, 9, 16, 25, 36]\n"
          ]
        }
      ]
    },
    {
      "cell_type": "code",
      "source": [
        "print(list_of_numbers)\n",
        "print(squared_numbers)"
      ],
      "metadata": {
        "colab": {
          "base_uri": "https://localhost:8080/"
        },
        "id": "o1I0tEo_YIv5",
        "outputId": "9f668b59-9baf-47b2-def0-5674f70c1bcd"
      },
      "execution_count": 213,
      "outputs": [
        {
          "output_type": "stream",
          "name": "stdout",
          "text": [
            "[1, 2, 3, 4, 5, 6]\n",
            "[1, 4, 9, 16, 25, 36]\n"
          ]
        }
      ]
    },
    {
      "cell_type": "code",
      "source": [
        "zipped_dict = dict(zip(list_of_numbers,squared_numbers))\n",
        "print(zipped_dict)"
      ],
      "metadata": {
        "colab": {
          "base_uri": "https://localhost:8080/"
        },
        "id": "bpNP3840YLug",
        "outputId": "8f49fa8f-2acb-43d2-c657-bf503429ebe5"
      },
      "execution_count": 214,
      "outputs": [
        {
          "output_type": "stream",
          "name": "stdout",
          "text": [
            "{1: 1, 2: 4, 3: 9, 4: 16, 5: 25, 6: 36}\n"
          ]
        }
      ]
    },
    {
      "cell_type": "code",
      "source": [
        "print(list_of_numbers)"
      ],
      "metadata": {
        "colab": {
          "base_uri": "https://localhost:8080/"
        },
        "id": "azUVdVlgYNMB",
        "outputId": "6a5963ca-3d68-4d92-fd77-0b3bd1e4c307"
      },
      "execution_count": 215,
      "outputs": [
        {
          "output_type": "stream",
          "name": "stdout",
          "text": [
            "[1, 2, 3, 4, 5, 6]\n"
          ]
        }
      ]
    },
    {
      "cell_type": "code",
      "source": [
        "for number in list_of_numbers:\n",
        "  print(f\"the square of {number} is {number**2}\")\n",
        "else:\n",
        "    print(f\"I am an odd number{number}.\")"
      ],
      "metadata": {
        "colab": {
          "base_uri": "https://localhost:8080/"
        },
        "id": "VaCNQwClYPVd",
        "outputId": "cda63615-cc49-4098-aeff-9d67760b69fa"
      },
      "execution_count": 216,
      "outputs": [
        {
          "output_type": "stream",
          "name": "stdout",
          "text": [
            "the square of 1 is 1\n",
            "the square of 2 is 4\n",
            "the square of 3 is 9\n",
            "the square of 4 is 16\n",
            "the square of 5 is 25\n",
            "the square of 6 is 36\n",
            "I am an odd number6.\n"
          ]
        }
      ]
    },
    {
      "cell_type": "code",
      "source": [
        "print(\"\\n\")\n",
        "print(\"I am finished with my iteration\")"
      ],
      "metadata": {
        "colab": {
          "base_uri": "https://localhost:8080/"
        },
        "id": "k1egqdy5YQ0K",
        "outputId": "89056499-61e3-4f72-ab60-8bfb1a3f63fc"
      },
      "execution_count": 217,
      "outputs": [
        {
          "output_type": "stream",
          "name": "stdout",
          "text": [
            "\n",
            "\n",
            "I am finished with my iteration\n"
          ]
        }
      ]
    },
    {
      "cell_type": "code",
      "source": [
        "list(range(10))"
      ],
      "metadata": {
        "colab": {
          "base_uri": "https://localhost:8080/"
        },
        "id": "rWgIoIXxYShJ",
        "outputId": "7d7d3562-d8a4-4c1a-bc93-3ed6fc1f0bf1"
      },
      "execution_count": 218,
      "outputs": [
        {
          "output_type": "execute_result",
          "data": {
            "text/plain": [
              "[0, 1, 2, 3, 4, 5, 6, 7, 8, 9]"
            ]
          },
          "metadata": {},
          "execution_count": 218
        }
      ]
    },
    {
      "cell_type": "code",
      "source": [
        "for number in range(0,10,3):\n",
        "  squared_number = number**2\n",
        "  print(f\"the square of {number} is {number**2}\")"
      ],
      "metadata": {
        "colab": {
          "base_uri": "https://localhost:8080/"
        },
        "id": "yc8SFNWCYUiL",
        "outputId": "b44f0941-0f41-4415-fcf4-912f04bee6a8"
      },
      "execution_count": 219,
      "outputs": [
        {
          "output_type": "stream",
          "name": "stdout",
          "text": [
            "the square of 0 is 0\n",
            "the square of 3 is 9\n",
            "the square of 6 is 36\n",
            "the square of 9 is 81\n"
          ]
        }
      ]
    },
    {
      "cell_type": "code",
      "source": [
        "for i in range(2,21,2):\n",
        "  print(i)"
      ],
      "metadata": {
        "colab": {
          "base_uri": "https://localhost:8080/"
        },
        "id": "W2VmBJNzYWB0",
        "outputId": "a8d95fb3-efc4-4d41-88b3-f1483d7851df"
      },
      "execution_count": 220,
      "outputs": [
        {
          "output_type": "stream",
          "name": "stdout",
          "text": [
            "2\n",
            "4\n",
            "6\n",
            "8\n",
            "10\n",
            "12\n",
            "14\n",
            "16\n",
            "18\n",
            "20\n"
          ]
        }
      ]
    },
    {
      "cell_type": "code",
      "source": [
        "print(list_of_numbers)"
      ],
      "metadata": {
        "colab": {
          "base_uri": "https://localhost:8080/"
        },
        "id": "JeCMOLk6YXkc",
        "outputId": "a888fe74-a350-44c4-c327-d0701e8bff4f"
      },
      "execution_count": 221,
      "outputs": [
        {
          "output_type": "stream",
          "name": "stdout",
          "text": [
            "[1, 2, 3, 4, 5, 6]\n"
          ]
        }
      ]
    },
    {
      "cell_type": "code",
      "source": [
        "sum_squares = 0\n",
        "\n",
        "for number in range(1,11):\n",
        "  sum_squares = sum_squares + number\n",
        "  print(sum_squares)"
      ],
      "metadata": {
        "colab": {
          "base_uri": "https://localhost:8080/"
        },
        "id": "RLvhzSkcYZnf",
        "outputId": "8c1e1a4e-ea00-4906-e5e4-eafdbd0d0371"
      },
      "execution_count": 222,
      "outputs": [
        {
          "output_type": "stream",
          "name": "stdout",
          "text": [
            "1\n",
            "3\n",
            "6\n",
            "10\n",
            "15\n",
            "21\n",
            "28\n",
            "36\n",
            "45\n",
            "55\n"
          ]
        }
      ]
    },
    {
      "cell_type": "code",
      "source": [
        "print(sum_squares)"
      ],
      "metadata": {
        "colab": {
          "base_uri": "https://localhost:8080/"
        },
        "id": "-q9vfkwuYbOK",
        "outputId": "d74359b8-31fd-4dc4-8e37-8789fe4b1bfb"
      },
      "execution_count": 223,
      "outputs": [
        {
          "output_type": "stream",
          "name": "stdout",
          "text": [
            "55\n"
          ]
        }
      ]
    },
    {
      "cell_type": "code",
      "source": [
        "jon_snow_quote = \"I'm the Aemon Targaryen\""
      ],
      "metadata": {
        "id": "QFaeb_yRYc25"
      },
      "execution_count": 224,
      "outputs": []
    },
    {
      "cell_type": "code",
      "source": [
        "for char in jon_snow_quote:\n",
        "  print(f\"the character is {char}\")"
      ],
      "metadata": {
        "colab": {
          "base_uri": "https://localhost:8080/"
        },
        "id": "m2owAFm5YeKU",
        "outputId": "6f72ed48-1d0e-4ea0-cf43-102fb2cb7850"
      },
      "execution_count": 225,
      "outputs": [
        {
          "output_type": "stream",
          "name": "stdout",
          "text": [
            "the character is I\n",
            "the character is '\n",
            "the character is m\n",
            "the character is  \n",
            "the character is t\n",
            "the character is h\n",
            "the character is e\n",
            "the character is  \n",
            "the character is A\n",
            "the character is e\n",
            "the character is m\n",
            "the character is o\n",
            "the character is n\n",
            "the character is  \n",
            "the character is T\n",
            "the character is a\n",
            "the character is r\n",
            "the character is g\n",
            "the character is a\n",
            "the character is r\n",
            "the character is y\n",
            "the character is e\n",
            "the character is n\n"
          ]
        }
      ]
    },
    {
      "cell_type": "code",
      "source": [
        "for index,char in enumerate(jon_snow_quote):\n",
        "  print(f\"the index is {index} and the character is {char}\")\n",
        ""
      ],
      "metadata": {
        "colab": {
          "base_uri": "https://localhost:8080/"
        },
        "id": "53vn5tjEYfXw",
        "outputId": "119302cc-cff8-4e7a-e705-04d2a2899804"
      },
      "execution_count": 226,
      "outputs": [
        {
          "output_type": "stream",
          "name": "stdout",
          "text": [
            "the index is 0 and the character is I\n",
            "the index is 1 and the character is '\n",
            "the index is 2 and the character is m\n",
            "the index is 3 and the character is  \n",
            "the index is 4 and the character is t\n",
            "the index is 5 and the character is h\n",
            "the index is 6 and the character is e\n",
            "the index is 7 and the character is  \n",
            "the index is 8 and the character is A\n",
            "the index is 9 and the character is e\n",
            "the index is 10 and the character is m\n",
            "the index is 11 and the character is o\n",
            "the index is 12 and the character is n\n",
            "the index is 13 and the character is  \n",
            "the index is 14 and the character is T\n",
            "the index is 15 and the character is a\n",
            "the index is 16 and the character is r\n",
            "the index is 17 and the character is g\n",
            "the index is 18 and the character is a\n",
            "the index is 19 and the character is r\n",
            "the index is 20 and the character is y\n",
            "the index is 21 and the character is e\n",
            "the index is 22 and the character is n\n"
          ]
        }
      ]
    },
    {
      "cell_type": "code",
      "source": [
        "heisenberg_quote = \"I am the one who knocks!\"\n",
        "words_in_quote = heisenberg_quote.split(' ')\n",
        "print(words_in_quote)"
      ],
      "metadata": {
        "colab": {
          "base_uri": "https://localhost:8080/"
        },
        "id": "HcRjRuP4Yhl2",
        "outputId": "20a2ba9b-cf55-486b-879a-c21697ce33fe"
      },
      "execution_count": 227,
      "outputs": [
        {
          "output_type": "stream",
          "name": "stdout",
          "text": [
            "['I', 'am', 'the', 'one', 'who', 'knocks!']\n"
          ]
        }
      ]
    },
    {
      "cell_type": "code",
      "source": [
        "for word in words_in_quote:\n",
        "  if word in ['I','me.']:\n",
        "    print(f\"the word is {word}\")"
      ],
      "metadata": {
        "colab": {
          "base_uri": "https://localhost:8080/"
        },
        "id": "r9QJTozPYjbV",
        "outputId": "68b516e5-e3a1-415a-dc7e-4ff27a9e2539"
      },
      "execution_count": 228,
      "outputs": [
        {
          "output_type": "stream",
          "name": "stdout",
          "text": [
            "the word is I\n"
          ]
        }
      ]
    },
    {
      "cell_type": "code",
      "source": [
        "days = ('monday','tuesday','wednesday','thursday','friday','saturday','sunday')\n",
        "for day in days:\n",
        "  print(f\"today is {day}\")"
      ],
      "metadata": {
        "colab": {
          "base_uri": "https://localhost:8080/"
        },
        "id": "U5t3fwGoYlJO",
        "outputId": "d361e8a4-9990-4e96-fe72-93f9dfb1ca2a"
      },
      "execution_count": 229,
      "outputs": [
        {
          "output_type": "stream",
          "name": "stdout",
          "text": [
            "today is monday\n",
            "today is tuesday\n",
            "today is wednesday\n",
            "today is thursday\n",
            "today is friday\n",
            "today is saturday\n",
            "today is sunday\n"
          ]
        }
      ]
    },
    {
      "cell_type": "code",
      "source": [
        "country_city_river_list = [('india','new delhi','ganga'),('pakistan','islamabad','indus'),('afghanistan','kabul','afghan')]\n",
        ""
      ],
      "metadata": {
        "id": "dWu1JaBbYnAP"
      },
      "execution_count": 230,
      "outputs": []
    },
    {
      "cell_type": "code",
      "source": [
        "country_city_river_list = [('india','new delhi','ganga'),('pakistan','islamabad','indus'),('afghanistan','kabul','afghan')]\n",
        "for country,city,river in country_city_river_list:\n",
        "  print(f\"the capital of the country is {country} is {city} and it also has the river {river}.\")"
      ],
      "metadata": {
        "colab": {
          "base_uri": "https://localhost:8080/"
        },
        "id": "HN4Q9O-gYo39",
        "outputId": "dc270e3e-e6ac-4fe0-e443-8ac1b91aeb16"
      },
      "execution_count": 231,
      "outputs": [
        {
          "output_type": "stream",
          "name": "stdout",
          "text": [
            "the capital of the country is india is new delhi and it also has the river ganga.\n",
            "the capital of the country is pakistan is islamabad and it also has the river indus.\n",
            "the capital of the country is afghanistan is kabul and it also has the river afghan.\n"
          ]
        }
      ]
    },
    {
      "cell_type": "code",
      "source": [
        "country_city_dict = {1:\"india\",2:\"usa\"}\n",
        "for item in country_city_dict:\n",
        "  print(item,country_city_dict[item])"
      ],
      "metadata": {
        "colab": {
          "base_uri": "https://localhost:8080/"
        },
        "id": "yUWttm4sYrH1",
        "outputId": "88aba14b-8e69-4046-cb23-d0bf04935620"
      },
      "execution_count": 232,
      "outputs": [
        {
          "output_type": "stream",
          "name": "stdout",
          "text": [
            "1 india\n",
            "2 usa\n"
          ]
        }
      ]
    },
    {
      "cell_type": "code",
      "source": [
        "country_city_dict.items()"
      ],
      "metadata": {
        "colab": {
          "base_uri": "https://localhost:8080/"
        },
        "id": "PHqzoNMGYs7R",
        "outputId": "06333c44-8ca6-48d8-b987-ea8a9656f805"
      },
      "execution_count": 233,
      "outputs": [
        {
          "output_type": "execute_result",
          "data": {
            "text/plain": [
              "dict_items([(1, 'india'), (2, 'usa')])"
            ]
          },
          "metadata": {},
          "execution_count": 233
        }
      ]
    },
    {
      "cell_type": "code",
      "source": [
        "for country,city in country_city_dict.items():\n",
        "  print(f\"the capital of the country is {country} is {city}.\")"
      ],
      "metadata": {
        "colab": {
          "base_uri": "https://localhost:8080/"
        },
        "id": "PGIY48hFYux4",
        "outputId": "32c980fb-8285-4824-e2cf-fcebe7a09ea1"
      },
      "execution_count": 234,
      "outputs": [
        {
          "output_type": "stream",
          "name": "stdout",
          "text": [
            "the capital of the country is 1 is india.\n",
            "the capital of the country is 2 is usa.\n"
          ]
        }
      ]
    },
    {
      "cell_type": "code",
      "source": [
        "for elem in {1,2,3}:\n",
        "  print(elem)"
      ],
      "metadata": {
        "colab": {
          "base_uri": "https://localhost:8080/"
        },
        "id": "UyrL3glYYwoR",
        "outputId": "30493789-919c-4724-fe4d-1215afe8483f"
      },
      "execution_count": 235,
      "outputs": [
        {
          "output_type": "stream",
          "name": "stdout",
          "text": [
            "1\n",
            "2\n",
            "3\n"
          ]
        }
      ]
    },
    {
      "cell_type": "code",
      "source": [
        "x = 0\n",
        "while x < 10:\n",
        "  print('x is currently: ',x)\n",
        "  print('x is still less than 10, adding 1 to x')\n",
        "  x = x + 1"
      ],
      "metadata": {
        "colab": {
          "base_uri": "https://localhost:8080/"
        },
        "id": "Vad2SMW7YyBU",
        "outputId": "1bbab492-010a-412e-ccbe-f2128bebd744"
      },
      "execution_count": 236,
      "outputs": [
        {
          "output_type": "stream",
          "name": "stdout",
          "text": [
            "x is currently:  0\n",
            "x is still less than 10, adding 1 to x\n",
            "x is currently:  1\n",
            "x is still less than 10, adding 1 to x\n",
            "x is currently:  2\n",
            "x is still less than 10, adding 1 to x\n",
            "x is currently:  3\n",
            "x is still less than 10, adding 1 to x\n",
            "x is currently:  4\n",
            "x is still less than 10, adding 1 to x\n",
            "x is currently:  5\n",
            "x is still less than 10, adding 1 to x\n",
            "x is currently:  6\n",
            "x is still less than 10, adding 1 to x\n",
            "x is currently:  7\n",
            "x is still less than 10, adding 1 to x\n",
            "x is currently:  8\n",
            "x is still less than 10, adding 1 to x\n",
            "x is currently:  9\n",
            "x is still less than 10, adding 1 to x\n"
          ]
        }
      ]
    },
    {
      "cell_type": "code",
      "source": [
        "x = 0\n",
        "while x < 5:\n",
        "  print('x is currently: ',x)\n",
        "  print(' x is stil less than 10, adding 1 to x')\n",
        "  x +=1"
      ],
      "metadata": {
        "colab": {
          "base_uri": "https://localhost:8080/"
        },
        "id": "3-ZAAk2MY0Ui",
        "outputId": "eb6fd0e6-906a-4109-accd-9cf8c06dffe6"
      },
      "execution_count": 237,
      "outputs": [
        {
          "output_type": "stream",
          "name": "stdout",
          "text": [
            "x is currently:  0\n",
            " x is stil less than 10, adding 1 to x\n",
            "x is currently:  1\n",
            " x is stil less than 10, adding 1 to x\n",
            "x is currently:  2\n",
            " x is stil less than 10, adding 1 to x\n",
            "x is currently:  3\n",
            " x is stil less than 10, adding 1 to x\n",
            "x is currently:  4\n",
            " x is stil less than 10, adding 1 to x\n"
          ]
        }
      ]
    },
    {
      "cell_type": "code",
      "source": [
        "print(\"all done\")\n",
        "print(\"i am done with the iteration\")"
      ],
      "metadata": {
        "colab": {
          "base_uri": "https://localhost:8080/"
        },
        "id": "K1qd0GYwY2LG",
        "outputId": "3951f65c-e107-4a4b-e83d-d1a7bcccc162"
      },
      "execution_count": 238,
      "outputs": [
        {
          "output_type": "stream",
          "name": "stdout",
          "text": [
            "all done\n",
            "i am done with the iteration\n"
          ]
        }
      ]
    },
    {
      "cell_type": "code",
      "source": [
        "x = 0\n",
        "while x < 10:\n",
        "  print('x is currently: ',x)\n",
        "  print(' x is still less than 10, adding 1 to x')\n",
        "  x +=1\n",
        "  if x == 3:\n",
        "    print('x == 3')\n",
        "  else:\n",
        "    print('continuing...')\n",
        "    continue"
      ],
      "metadata": {
        "colab": {
          "base_uri": "https://localhost:8080/"
        },
        "id": "W62v7txVY4As",
        "outputId": "1518858b-88e2-426f-f051-b67f0ea4c789"
      },
      "execution_count": 239,
      "outputs": [
        {
          "output_type": "stream",
          "name": "stdout",
          "text": [
            "x is currently:  0\n",
            " x is still less than 10, adding 1 to x\n",
            "continuing...\n",
            "x is currently:  1\n",
            " x is still less than 10, adding 1 to x\n",
            "continuing...\n",
            "x is currently:  2\n",
            " x is still less than 10, adding 1 to x\n",
            "x == 3\n",
            "x is currently:  3\n",
            " x is still less than 10, adding 1 to x\n",
            "continuing...\n",
            "x is currently:  4\n",
            " x is still less than 10, adding 1 to x\n",
            "continuing...\n",
            "x is currently:  5\n",
            " x is still less than 10, adding 1 to x\n",
            "continuing...\n",
            "x is currently:  6\n",
            " x is still less than 10, adding 1 to x\n",
            "continuing...\n",
            "x is currently:  7\n",
            " x is still less than 10, adding 1 to x\n",
            "continuing...\n",
            "x is currently:  8\n",
            " x is still less than 10, adding 1 to x\n",
            "continuing...\n",
            "x is currently:  9\n",
            " x is still less than 10, adding 1 to x\n",
            "continuing...\n"
          ]
        }
      ]
    },
    {
      "cell_type": "code",
      "source": [],
      "metadata": {
        "id": "PjKa1pGyY6Ej"
      },
      "execution_count": null,
      "outputs": []
    }
  ]
}