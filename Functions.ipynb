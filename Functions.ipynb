{
  "nbformat": 4,
  "nbformat_minor": 0,
  "metadata": {
    "colab": {
      "provenance": [],
      "authorship_tag": "ABX9TyOeKRs6KTTcZqg12pbQsriB",
      "include_colab_link": true
    },
    "kernelspec": {
      "name": "python3",
      "display_name": "Python 3"
    },
    "language_info": {
      "name": "python"
    }
  },
  "cells": [
    {
      "cell_type": "markdown",
      "metadata": {
        "id": "view-in-github",
        "colab_type": "text"
      },
      "source": [
        "<a href=\"https://colab.research.google.com/github/girishkarhana/python/blob/main/Functions.ipynb\" target=\"_parent\"><img src=\"https://colab.research.google.com/assets/colab-badge.svg\" alt=\"Open In Colab\"/></a>"
      ]
    },
    {
      "cell_type": "code",
      "source": [
        "heisenberg_quote = \"I am the danger\""
      ],
      "metadata": {
        "id": "3dBDJd1ob_5W"
      },
      "execution_count": 275,
      "outputs": []
    },
    {
      "cell_type": "code",
      "source": [
        "heisenberg_quote = \"I am the danger\"\n",
        "words_by_quote = heisenberg_quote.split(' ')\n",
        "first_letters = [word[0] for word in words_by_quote]\n",
        "print(first_letters)"
      ],
      "metadata": {
        "colab": {
          "base_uri": "https://localhost:8080/"
        },
        "id": "rxA7NPS1cQ_g",
        "outputId": "899efaee-f07f-4463-ebb8-2b352f8a9d78"
      },
      "execution_count": 276,
      "outputs": [
        {
          "output_type": "stream",
          "name": "stdout",
          "text": [
            "['I', 'a', 't', 'd']\n"
          ]
        }
      ]
    },
    {
      "cell_type": "code",
      "source": [
        "\n",
        "def extract_first_letters(sentence):\n",
        "  words_in_sentence = sentence.split(' ')\n",
        "  first_letters = [word[0] for word in words_in_sentence]\n",
        "  return first_letters\n",
        "  print(extract_first_letters(heisenberg_quote))"
      ],
      "metadata": {
        "id": "6iy71QhlcSLg"
      },
      "execution_count": 277,
      "outputs": []
    },
    {
      "cell_type": "code",
      "source": [
        "first_letters_heisenberg = extract_first_letters(heisenberg_quote)\n",
        "print(first_letters_heisenberg)"
      ],
      "metadata": {
        "colab": {
          "base_uri": "https://localhost:8080/"
        },
        "id": "LeXalAEMcTpm",
        "outputId": "e7cb9637-84cc-4342-9edb-1a2b3166863d"
      },
      "execution_count": 278,
      "outputs": [
        {
          "output_type": "stream",
          "name": "stdout",
          "text": [
            "['I', 'a', 't', 'd']\n"
          ]
        }
      ]
    },
    {
      "cell_type": "code",
      "source": [
        "from re import I\n",
        "#Function for calculating factorial of a number\n",
        "def factorial(num):\n",
        "  result = 1\n",
        "  if num < 0:\n",
        "    print(\"factorial is not defined for negative numbers\")\n",
        "  elif (num> 0):\n",
        "    for i in range(1, num+1):\n",
        "            result = result * i\n",
        "    print(f\"the factorial of {num} is {result}\")\n",
        "  else:\n",
        "              result = 1\n",
        "              print('factorial of 0 is ',result)\n",
        "\n",
        "factorial(5)"
      ],
      "metadata": {
        "colab": {
          "base_uri": "https://localhost:8080/"
        },
        "id": "71bgsbeocVR2",
        "outputId": "44119986-5aa5-4468-bdd0-ec96ba896852"
      },
      "execution_count": 279,
      "outputs": [
        {
          "output_type": "stream",
          "name": "stdout",
          "text": [
            "the factorial of 5 is 120\n"
          ]
        }
      ]
    },
    {
      "cell_type": "code",
      "source": [
        "list_of_numbers = [1,2,3,4,5,6,7]"
      ],
      "metadata": {
        "id": "NiGdbB82cWlB"
      },
      "execution_count": 280,
      "outputs": []
    },
    {
      "cell_type": "code",
      "source": [
        "list_of_numbers = [1,2,3,4,5,6,7]\n",
        "factorial_list = [factorial(number) for number in list_of_numbers if number%2!=0]\n",
        "print(factorial_list)"
      ],
      "metadata": {
        "colab": {
          "base_uri": "https://localhost:8080/"
        },
        "id": "9MadCXx8cYkg",
        "outputId": "a7b3b1a5-65e9-4f19-a921-e4ef6850ccaf"
      },
      "execution_count": 281,
      "outputs": [
        {
          "output_type": "stream",
          "name": "stdout",
          "text": [
            "the factorial of 1 is 1\n",
            "the factorial of 3 is 6\n",
            "the factorial of 5 is 120\n",
            "the factorial of 7 is 5040\n",
            "[None, None, None, None]\n"
          ]
        }
      ]
    },
    {
      "cell_type": "code",
      "source": [
        "def assignQuarter(user_date):\n",
        "  date_year = user_date[:4]\n",
        "  date_month = user_date[5:7]\n",
        "\n",
        "  if (date_month >= '01') & (date_month <= '03'):\n",
        "    quarter = date_year + '-Q1'\n",
        "  elif (date_month >= '04') & (date_month <='06'):\n",
        "      quarter = date_year + '-Q2'\n",
        "  elif (date_month >= '07') & (date_month <= '09'):\n",
        "    quarter = date_year + '-Q3'\n",
        "  else:\n",
        "    quarter = date_year + '-Q4'\n",
        "  return quarter"
      ],
      "metadata": {
        "id": "UzNVDXTscZu3"
      },
      "execution_count": 282,
      "outputs": []
    },
    {
      "cell_type": "code",
      "source": [
        "sample_date = '2022-04-01'\n",
        "date_quarter = assignQuarter(sample_date)\n",
        "print(date_quarter)"
      ],
      "metadata": {
        "colab": {
          "base_uri": "https://localhost:8080/"
        },
        "id": "HVLxx-yAcbh1",
        "outputId": "f1b1adbe-19c1-4c9e-adc6-bf7b3c3e7726"
      },
      "execution_count": 283,
      "outputs": [
        {
          "output_type": "stream",
          "name": "stdout",
          "text": [
            "2022-Q2\n"
          ]
        }
      ]
    },
    {
      "cell_type": "code",
      "source": [
        "my_quarter = assignQuarter('2022-07-01')\n",
        "print(my_quarter)"
      ],
      "metadata": {
        "colab": {
          "base_uri": "https://localhost:8080/"
        },
        "id": "6pu6BP1EcdNW",
        "outputId": "9729c325-4da9-4a8a-b67d-1b4fe0e10929"
      },
      "execution_count": 284,
      "outputs": [
        {
          "output_type": "stream",
          "name": "stdout",
          "text": [
            "2022-Q3\n"
          ]
        }
      ]
    },
    {
      "cell_type": "code",
      "source": [
        "def check_even_or_odd(num):\n",
        "  print(f\"given number is {num}\")\n",
        "\n",
        "  if num%2 ==0:\n",
        "    return 'even'\n",
        "  return 'odd'\n",
        "\n",
        "is_even_odd = check_even_or_odd(10)\n",
        "print(is_even_odd)"
      ],
      "metadata": {
        "colab": {
          "base_uri": "https://localhost:8080/"
        },
        "id": "PDkBbOM4ceWi",
        "outputId": "43d4f72b-e882-4ebc-8350-c37e91b7a0b4"
      },
      "execution_count": 285,
      "outputs": [
        {
          "output_type": "stream",
          "name": "stdout",
          "text": [
            "given number is 10\n",
            "even\n"
          ]
        }
      ]
    },
    {
      "cell_type": "code",
      "source": [
        "def list_append(my_list, elem):\n",
        "  new_list = my_list + [elem]\n",
        "  return new_list\n"
      ],
      "metadata": {
        "id": "24iOcNBBcfhU"
      },
      "execution_count": 286,
      "outputs": []
    },
    {
      "cell_type": "code",
      "source": [
        "def list_append(my_list, elem):\n",
        "  new_list = my_list + [elem]\n",
        "  return new_list"
      ],
      "metadata": {
        "id": "lGddxyVSchRB"
      },
      "execution_count": 287,
      "outputs": []
    },
    {
      "cell_type": "code",
      "source": [
        "heights = [150,160,170,180,190,200]\n",
        "list_append(heights, 210)"
      ],
      "metadata": {
        "colab": {
          "base_uri": "https://localhost:8080/"
        },
        "id": "e9dmYQ5oclHR",
        "outputId": "3c9f0b9b-3253-4fc3-f64e-8bfbb2aca8d6"
      },
      "execution_count": 288,
      "outputs": [
        {
          "output_type": "execute_result",
          "data": {
            "text/plain": [
              "[150, 160, 170, 180, 190, 200, 210]"
            ]
          },
          "metadata": {},
          "execution_count": 288
        }
      ]
    },
    {
      "cell_type": "code",
      "source": [
        "list_append(heights, 220)"
      ],
      "metadata": {
        "colab": {
          "base_uri": "https://localhost:8080/"
        },
        "id": "NyNnvOAlcmXz",
        "outputId": "1960bd4e-0c43-47dc-b593-8a4cdd106f83"
      },
      "execution_count": 289,
      "outputs": [
        {
          "output_type": "execute_result",
          "data": {
            "text/plain": [
              "[150, 160, 170, 180, 190, 200, 220]"
            ]
          },
          "metadata": {},
          "execution_count": 289
        }
      ]
    },
    {
      "cell_type": "code",
      "source": [
        "list_append(heights, elem = 50)"
      ],
      "metadata": {
        "colab": {
          "base_uri": "https://localhost:8080/"
        },
        "id": "lB7BVofGco16",
        "outputId": "f6da1f66-e612-4bda-9a85-68f07da148a8"
      },
      "execution_count": 290,
      "outputs": [
        {
          "output_type": "execute_result",
          "data": {
            "text/plain": [
              "[150, 160, 170, 180, 190, 200, 50]"
            ]
          },
          "metadata": {},
          "execution_count": 290
        }
      ]
    },
    {
      "cell_type": "code",
      "source": [
        "heights.append(100)\n",
        "heights"
      ],
      "metadata": {
        "colab": {
          "base_uri": "https://localhost:8080/"
        },
        "id": "moc8_KWqcqWw",
        "outputId": "2cdbdc05-a730-4cbf-d990-2c0e5903fd1b"
      },
      "execution_count": 291,
      "outputs": [
        {
          "output_type": "execute_result",
          "data": {
            "text/plain": [
              "[150, 160, 170, 180, 190, 200, 100]"
            ]
          },
          "metadata": {},
          "execution_count": 291
        }
      ]
    },
    {
      "cell_type": "code",
      "source": [
        "def experiment():\n",
        "  global x\n",
        "  x = 50\n",
        "  return x"
      ],
      "metadata": {
        "id": "nN_I_J63csNC"
      },
      "execution_count": 292,
      "outputs": []
    },
    {
      "cell_type": "code",
      "source": [
        "experiment()"
      ],
      "metadata": {
        "colab": {
          "base_uri": "https://localhost:8080/"
        },
        "id": "PWG5guMyctUx",
        "outputId": "bdaaedcb-0fb0-4fa3-a29a-85413d2e7d91"
      },
      "execution_count": 293,
      "outputs": [
        {
          "output_type": "execute_result",
          "data": {
            "text/plain": [
              "50"
            ]
          },
          "metadata": {},
          "execution_count": 293
        }
      ]
    },
    {
      "cell_type": "code",
      "source": [
        "x"
      ],
      "metadata": {
        "colab": {
          "base_uri": "https://localhost:8080/"
        },
        "id": "sNIVIY-ycvdF",
        "outputId": "d6bb828f-25a2-49f0-a632-0033b151550c"
      },
      "execution_count": 294,
      "outputs": [
        {
          "output_type": "execute_result",
          "data": {
            "text/plain": [
              "50"
            ]
          },
          "metadata": {},
          "execution_count": 294
        }
      ]
    },
    {
      "cell_type": "code",
      "source": [
        "def new_experiment():\n",
        "  x = 50\n",
        "  return x\n",
        "x = 40\n"
      ],
      "metadata": {
        "id": "7QwMrg50cwut"
      },
      "execution_count": 295,
      "outputs": []
    },
    {
      "cell_type": "code",
      "source": [
        "new_experiment()"
      ],
      "metadata": {
        "colab": {
          "base_uri": "https://localhost:8080/"
        },
        "id": "TA143YhLc0FY",
        "outputId": "61bf6eea-c76c-492a-8ace-6208d32c81fb"
      },
      "execution_count": 296,
      "outputs": [
        {
          "output_type": "execute_result",
          "data": {
            "text/plain": [
              "50"
            ]
          },
          "metadata": {},
          "execution_count": 296
        }
      ]
    },
    {
      "cell_type": "code",
      "source": [
        "x"
      ],
      "metadata": {
        "colab": {
          "base_uri": "https://localhost:8080/"
        },
        "id": "Rdsjh5gfc1Xa",
        "outputId": "efbd21ac-1703-4be5-a454-961f82b6c039"
      },
      "execution_count": 297,
      "outputs": [
        {
          "output_type": "execute_result",
          "data": {
            "text/plain": [
              "40"
            ]
          },
          "metadata": {},
          "execution_count": 297
        }
      ]
    }
  ]
}